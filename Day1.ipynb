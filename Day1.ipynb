{
  "nbformat": 4,
  "nbformat_minor": 0,
  "metadata": {
    "colab": {
      "provenance": [],
      "toc_visible": true
    },
    "kernelspec": {
      "name": "python3",
      "display_name": "Python 3"
    },
    "language_info": {
      "name": "python"
    }
  },
  "cells": [
    {
      "cell_type": "markdown",
      "source": [
        "# Tracing"
      ],
      "metadata": {
        "id": "1-eAzqwVZeMT"
      }
    },
    {
      "cell_type": "code",
      "source": [
        "import os\n",
        "from google.colab import userdata\n",
        "\n",
        "os.environ[\"LANGSMITH_API_KEY\"] = userdata.get('LANGSMITH_API_KEY')\n",
        "os.environ[\"LANGSMITH_TRACING\"] = \"true\"\n",
        "os.environ[\"LANGSMITH_PROJECT\"] = \"default\"\n",
        "os.environ[\"LANGSMITH_ENDPOINT\"] = \"https://api.smith.langchain.com\"\n",
        "os.environ[\"LANGSMITH_PROJECT\"] = \"PUT YOURS HERE\""
      ],
      "metadata": {
        "id": "OSmN3fiSZfs4"
      },
      "execution_count": null,
      "outputs": []
    },
    {
      "cell_type": "markdown",
      "source": [
        "# Getting started"
      ],
      "metadata": {
        "id": "vFY9j5sphPKq"
      }
    },
    {
      "cell_type": "markdown",
      "source": [
        "Let's invoke the Gemini with a simple text input:"
      ],
      "metadata": {
        "id": "eVuy31nOhRZZ"
      }
    },
    {
      "cell_type": "code",
      "execution_count": null,
      "metadata": {
        "id": "EbREhv7fgLAG"
      },
      "outputs": [],
      "source": [
        "from langchain_google_genai import ChatGoogleGenerativeAI"
      ]
    },
    {
      "cell_type": "code",
      "source": [
        "google_api_key = userdata.get('GOOGLE_API_KEY')"
      ],
      "metadata": {
        "id": "Rb263mc9g1gR"
      },
      "execution_count": null,
      "outputs": []
    },
    {
      "cell_type": "code",
      "source": [
        "llm = ChatGoogleGenerativeAI(\n",
        "    model=\"gemini-2.5-flash\",\n",
        "    google_api_key=google_api_key)"
      ],
      "metadata": {
        "id": "kjYpwP5NgYOa"
      },
      "execution_count": null,
      "outputs": []
    },
    {
      "cell_type": "code",
      "source": [
        "from langchain_core.runnables import Runnable\n",
        "isinstance(llm, Runnable)"
      ],
      "metadata": {
        "colab": {
          "base_uri": "https://localhost:8080/"
        },
        "id": "rXWF2rhmgm10",
        "outputId": "485679cf-3e61-457d-a7b3-7c91ad2ac0ea"
      },
      "execution_count": null,
      "outputs": [
        {
          "output_type": "execute_result",
          "data": {
            "text/plain": [
              "True"
            ]
          },
          "metadata": {},
          "execution_count": 5
        }
      ]
    },
    {
      "cell_type": "code",
      "source": [
        "result = llm.invoke(\"What is the capital of the USA?\")\n",
        "print(result.content)"
      ],
      "metadata": {
        "colab": {
          "base_uri": "https://localhost:8080/"
        },
        "id": "CWF1ARONgtNa",
        "outputId": "22acb269-23e0-4392-9632-3eb956dfa0a5"
      },
      "execution_count": null,
      "outputs": [
        {
          "output_type": "stream",
          "name": "stdout",
          "text": [
            "The capital of the USA is **Washington, D.C.**\n"
          ]
        }
      ]
    },
    {
      "cell_type": "code",
      "source": [
        "result.content"
      ],
      "metadata": {
        "colab": {
          "base_uri": "https://localhost:8080/",
          "height": 36
        },
        "id": "LXQY5QUEg0Fy",
        "outputId": "6fac72ac-3158-43a2-a340-f20d2f7271dd"
      },
      "execution_count": null,
      "outputs": [
        {
          "output_type": "execute_result",
          "data": {
            "text/plain": [
              "'The capital of the USA is **Washington, D.C.**'"
            ],
            "application/vnd.google.colaboratory.intrinsic+json": {
              "type": "string"
            }
          },
          "metadata": {},
          "execution_count": 8
        }
      ]
    },
    {
      "cell_type": "code",
      "source": [
        "print(result.usage_metadata)"
      ],
      "metadata": {
        "colab": {
          "base_uri": "https://localhost:8080/"
        },
        "id": "sk7FS0iahBvf",
        "outputId": "707334d4-7748-405c-c6b8-fa416822ba60"
      },
      "execution_count": null,
      "outputs": [
        {
          "output_type": "stream",
          "name": "stdout",
          "text": [
            "{'input_tokens': 9, 'output_tokens': 42, 'total_tokens': 51, 'input_token_details': {'cache_read': 0}, 'output_token_details': {'reasoning': 29}}\n"
          ]
        }
      ]
    },
    {
      "cell_type": "code",
      "source": [
        "from langchain_core.messages import HumanMessage\n",
        "\n",
        "user_input = HumanMessage(content=\"What is the capital of the USA?\")"
      ],
      "metadata": {
        "id": "EEnlwE3DhXW2"
      },
      "execution_count": null,
      "outputs": []
    },
    {
      "cell_type": "code",
      "source": [
        "step1 = llm.invoke([user_input])"
      ],
      "metadata": {
        "id": "kcGqxRmGhhS_"
      },
      "execution_count": null,
      "outputs": []
    },
    {
      "cell_type": "code",
      "source": [
        "type(step1)"
      ],
      "metadata": {
        "colab": {
          "base_uri": "https://localhost:8080/",
          "height": 186
        },
        "id": "B4hfthOzIzLy",
        "outputId": "6b4f9d0a-fd3a-4495-c030-1bde78bebb77"
      },
      "execution_count": null,
      "outputs": [
        {
          "output_type": "execute_result",
          "data": {
            "text/plain": [
              "langchain_core.messages.ai.AIMessage"
            ],
            "text/html": [
              "<div style=\"max-width:800px; border: 1px solid var(--colab-border-color);\"><style>\n",
              "      pre.function-repr-contents {\n",
              "        overflow-x: auto;\n",
              "        padding: 8px 12px;\n",
              "        max-height: 500px;\n",
              "      }\n",
              "\n",
              "      pre.function-repr-contents.function-repr-contents-collapsed {\n",
              "        cursor: pointer;\n",
              "        max-height: 100px;\n",
              "      }\n",
              "    </style>\n",
              "    <pre style=\"white-space: initial; background:\n",
              "         var(--colab-secondary-surface-color); padding: 8px 12px;\n",
              "         border-bottom: 1px solid var(--colab-border-color);\"><b>langchain_core.messages.ai.AIMessage</b><br/>def __init__(content: Union[str, list[Union[str, dict]]], **kwargs: Any) -&gt; None</pre><pre class=\"function-repr-contents function-repr-contents-collapsed\" style=\"\"><a class=\"filepath\" style=\"display:none\" href=\"#\">/usr/local/lib/python3.12/dist-packages/langchain_core/messages/ai.py</a>Message from an AI.\n",
              "\n",
              "AIMessage is returned from a chat model as a response to a prompt.\n",
              "\n",
              "This message represents the output of the model and consists of both\n",
              "the raw output as returned by the model together standardized fields\n",
              "(e.g., tool calls, usage metadata) added by the LangChain framework.</pre>\n",
              "      <script>\n",
              "      if (google.colab.kernel.accessAllowed && google.colab.files && google.colab.files.view) {\n",
              "        for (const element of document.querySelectorAll('.filepath')) {\n",
              "          element.style.display = 'block'\n",
              "          element.onclick = (event) => {\n",
              "            event.preventDefault();\n",
              "            event.stopPropagation();\n",
              "            google.colab.files.view(element.textContent, 154);\n",
              "          };\n",
              "        }\n",
              "      }\n",
              "      for (const element of document.querySelectorAll('.function-repr-contents')) {\n",
              "        element.onclick = (event) => {\n",
              "          event.preventDefault();\n",
              "          event.stopPropagation();\n",
              "          element.classList.toggle('function-repr-contents-collapsed');\n",
              "        };\n",
              "      }\n",
              "      </script>\n",
              "      </div>"
            ]
          },
          "metadata": {},
          "execution_count": 12
        }
      ]
    },
    {
      "cell_type": "code",
      "source": [
        "print(step1.content)"
      ],
      "metadata": {
        "colab": {
          "base_uri": "https://localhost:8080/"
        },
        "id": "Q47z6YusI1nI",
        "outputId": "ac092a1a-004b-4d8f-c362-9a12a7ddbaec"
      },
      "execution_count": null,
      "outputs": [
        {
          "output_type": "stream",
          "name": "stdout",
          "text": [
            "The capital of the USA is **Washington, D.C.**\n"
          ]
        }
      ]
    },
    {
      "cell_type": "code",
      "source": [
        "print(step1.usage_metadata)"
      ],
      "metadata": {
        "colab": {
          "base_uri": "https://localhost:8080/"
        },
        "id": "a1QwT04PI3AF",
        "outputId": "03c36063-933a-4d5f-b004-d15cda83469a"
      },
      "execution_count": null,
      "outputs": [
        {
          "output_type": "stream",
          "name": "stdout",
          "text": [
            "{'input_tokens': 9, 'output_tokens': 31, 'total_tokens': 40, 'input_token_details': {'cache_read': 0}, 'output_token_details': {'reasoning': 18}}\n"
          ]
        }
      ]
    },
    {
      "cell_type": "code",
      "source": [
        "from langchain_core.prompts import PromptTemplate\n",
        "\n",
        "prompt_template = (\n",
        "    \"Be concise and answer user's question carefully.\\n\\n\"\n",
        "    \"QUESTION:\\n{question}\\n\"\n",
        ")\n",
        "\n",
        "question = \"What is the capital of the USA?\"\n",
        "lc_prompt_template = PromptTemplate.from_template(prompt_template)\n",
        "lc_prompt_template.invoke({\"question\": question})"
      ],
      "metadata": {
        "colab": {
          "base_uri": "https://localhost:8080/"
        },
        "id": "_iXIAEMlI7OU",
        "outputId": "9bc97b8c-cf82-47e6-c550-5514cfa15c38"
      },
      "execution_count": null,
      "outputs": [
        {
          "output_type": "execute_result",
          "data": {
            "text/plain": [
              "StringPromptValue(text=\"Be concise and answer user's question carefully.\\n\\nQUESTION:\\nWhat is the capital of the USA?\\n\")"
            ]
          },
          "metadata": {},
          "execution_count": 15
        }
      ]
    },
    {
      "cell_type": "code",
      "source": [
        "from langchain_core.output_parsers import StrOutputParser\n",
        "\n",
        "chain = lc_prompt_template | llm | StrOutputParser()\n",
        "result = chain.invoke({\"question\": question})"
      ],
      "metadata": {
        "id": "ABrQCaQ5JNnh"
      },
      "execution_count": null,
      "outputs": []
    },
    {
      "cell_type": "code",
      "source": [
        "type(result)"
      ],
      "metadata": {
        "colab": {
          "base_uri": "https://localhost:8080/"
        },
        "id": "xEtkG5tKiNmF",
        "outputId": "42c1dba1-f447-432a-c977-3a8889e2c4ae"
      },
      "execution_count": null,
      "outputs": [
        {
          "output_type": "execute_result",
          "data": {
            "text/plain": [
              "str"
            ]
          },
          "metadata": {},
          "execution_count": 17
        }
      ]
    },
    {
      "cell_type": "markdown",
      "source": [
        "A special placeholder for messages:"
      ],
      "metadata": {
        "id": "Tp51JXL-KORI"
      }
    },
    {
      "cell_type": "code",
      "source": [
        "from langchain_core.prompts import ChatPromptTemplate, HumanMessagePromptTemplate\n",
        "from langchain_core.messages import SystemMessage, HumanMessage\n",
        "from langchain_core.prompts import SystemMessagePromptTemplate\n",
        "\n",
        "\n",
        "msg_template = HumanMessagePromptTemplate.from_template(prompt_template)\n",
        "msg_example = msg_template.format(question=question)\n",
        "\n",
        "print(msg_example)\n"
      ],
      "metadata": {
        "colab": {
          "base_uri": "https://localhost:8080/"
        },
        "id": "Z0DkjU2hKNzO",
        "outputId": "cb9a7b69-957c-4915-de8c-3f52b7815559"
      },
      "execution_count": null,
      "outputs": [
        {
          "output_type": "stream",
          "name": "stdout",
          "text": [
            "content=\"Be concise and answer user's question carefully.\\n\\nQUESTION:\\nWhat is the capital of the USA?\\n\" additional_kwargs={} response_metadata={}\n"
          ]
        }
      ]
    },
    {
      "cell_type": "code",
      "source": [
        "chat_prompt_template = ChatPromptTemplate.from_messages([SystemMessage(content=\"You are a helpful assistant.\"), msg_template])\n",
        "chain = chat_prompt_template | llm | StrOutputParser()\n",
        "chain.invoke({\"question\": question})"
      ],
      "metadata": {
        "colab": {
          "base_uri": "https://localhost:8080/",
          "height": 36
        },
        "id": "6xzdD0GKKYXt",
        "outputId": "749bea51-acc0-4998-8861-357951d22eb2"
      },
      "execution_count": null,
      "outputs": [
        {
          "output_type": "execute_result",
          "data": {
            "text/plain": [
              "'Washington, D.C.'"
            ],
            "application/vnd.google.colaboratory.intrinsic+json": {
              "type": "string"
            }
          },
          "metadata": {},
          "execution_count": 19
        }
      ]
    },
    {
      "cell_type": "code",
      "source": [
        "from langchain_core.prompts import ChatPromptTemplate, MessagesPlaceholder\n",
        "\n",
        "chat_prompt_template = ChatPromptTemplate.from_messages(\n",
        "    [(\"system\", \"You are a helpful assistant.\"),\n",
        "     (\"placeholder\", \"{history}\"),\n",
        "     # same as MessagesPlaceholder(\"history\"),\n",
        "     (\"human\", prompt_template)])"
      ],
      "metadata": {
        "id": "T2ipEzczKfrp"
      },
      "execution_count": null,
      "outputs": []
    },
    {
      "cell_type": "code",
      "source": [
        "chat_prompt_template.invoke(question)"
      ],
      "metadata": {
        "colab": {
          "base_uri": "https://localhost:8080/"
        },
        "id": "h5eUU2TnKh1p",
        "outputId": "5abfe821-b4d0-4a7f-ac4a-945964d21b4d"
      },
      "execution_count": null,
      "outputs": [
        {
          "output_type": "execute_result",
          "data": {
            "text/plain": [
              "ChatPromptValue(messages=[SystemMessage(content='You are a helpful assistant.', additional_kwargs={}, response_metadata={}), HumanMessage(content=\"Be concise and answer user's question carefully.\\n\\nQUESTION:\\nWhat is the capital of the USA?\\n\", additional_kwargs={}, response_metadata={})])"
            ]
          },
          "metadata": {},
          "execution_count": 21
        }
      ]
    },
    {
      "cell_type": "code",
      "source": [
        "len(chat_prompt_template.invoke(question).messages)"
      ],
      "metadata": {
        "colab": {
          "base_uri": "https://localhost:8080/"
        },
        "id": "EeBas7GtKlj3",
        "outputId": "3c5eab8a-0d5a-4e15-d42f-ac690a374331"
      },
      "execution_count": null,
      "outputs": [
        {
          "output_type": "execute_result",
          "data": {
            "text/plain": [
              "2"
            ]
          },
          "metadata": {},
          "execution_count": 22
        }
      ]
    },
    {
      "cell_type": "code",
      "source": [
        "len(chat_prompt_template.invoke({\"question\": question, \"history\": [(\"user\", \"hi\"), (\"ai\", \"how can I help?\")]}).messages)"
      ],
      "metadata": {
        "colab": {
          "base_uri": "https://localhost:8080/"
        },
        "id": "VJfrW_jgKqMG",
        "outputId": "99c626e0-6c31-4cf7-d5ae-db9d35bd26ad"
      },
      "execution_count": null,
      "outputs": [
        {
          "output_type": "execute_result",
          "data": {
            "text/plain": [
              "4"
            ]
          },
          "metadata": {},
          "execution_count": 23
        }
      ]
    },
    {
      "cell_type": "code",
      "source": [
        "def increment_by_one(x: int) -> int:\n",
        " return x + 1\n",
        "\n",
        "\n",
        "def fake_llm(x: int) -> str:\n",
        " return f\"Result = {x}\""
      ],
      "metadata": {
        "id": "ANH-OhFBK1hx"
      },
      "execution_count": null,
      "outputs": []
    },
    {
      "cell_type": "code",
      "source": [
        "from langchain_core.runnables import RunnableLambda\n",
        "\n",
        "chain = (\n",
        "   increment_by_one | RunnableLambda(fake_llm)\n",
        ")\n",
        "\n",
        "\n",
        "result = chain.invoke(1)\n",
        "print(result)"
      ],
      "metadata": {
        "colab": {
          "base_uri": "https://localhost:8080/"
        },
        "id": "N9s-IFCgN6ho",
        "outputId": "76b69c70-c4da-4671-8ecf-8a5cc79cbca2"
      },
      "execution_count": null,
      "outputs": [
        {
          "output_type": "stream",
          "name": "stdout",
          "text": [
            "Result = 2\n"
          ]
        }
      ]
    },
    {
      "cell_type": "code",
      "source": [
        "from langchain_core.runnables import RunnableSequence\n",
        "\n",
        "\n",
        "a = increment_by_one | RunnableLambda(fake_llm)\n",
        "b = RunnableSequence(RunnableLambda(increment_by_one), RunnableLambda(fake_llm))\n",
        "\n",
        "print(a == b)\n"
      ],
      "metadata": {
        "id": "MqbUgSBKOKwM",
        "outputId": "bc9b268e-8c6e-4aa5-bec7-317e707227aa",
        "colab": {
          "base_uri": "https://localhost:8080/"
        }
      },
      "execution_count": null,
      "outputs": [
        {
          "output_type": "stream",
          "name": "stdout",
          "text": [
            "True\n"
          ]
        }
      ]
    },
    {
      "cell_type": "code",
      "source": [
        "from langchain_core.callbacks import UsageMetadataCallbackHandler\n",
        "\n",
        "cb = UsageMetadataCallbackHandler()\n",
        "llm = ChatGoogleGenerativeAI(model=\"gemini-2.0-flash-001\", google_api_key=google_api_key, callbacks=[cb])"
      ],
      "metadata": {
        "id": "9eL2MLZOOPV8"
      },
      "execution_count": null,
      "outputs": []
    },
    {
      "cell_type": "code",
      "source": [
        "chain = lc_prompt_template | llm | StrOutputParser()\n",
        "chain.invoke({\"question\": question})"
      ],
      "metadata": {
        "colab": {
          "base_uri": "https://localhost:8080/",
          "height": 36
        },
        "id": "LuekYPRSRusf",
        "outputId": "8a12b922-3a70-487d-e036-bb6b3327e02a"
      },
      "execution_count": null,
      "outputs": [
        {
          "output_type": "execute_result",
          "data": {
            "text/plain": [
              "'Washington, D.C.'"
            ],
            "application/vnd.google.colaboratory.intrinsic+json": {
              "type": "string"
            }
          },
          "metadata": {},
          "execution_count": 28
        }
      ]
    },
    {
      "cell_type": "code",
      "source": [
        "print(cb)"
      ],
      "metadata": {
        "colab": {
          "base_uri": "https://localhost:8080/"
        },
        "id": "4kv0sFJERvft",
        "outputId": "fe2c6dce-ea0b-413f-c819-662250a5ad34"
      },
      "execution_count": null,
      "outputs": [
        {
          "output_type": "stream",
          "name": "stdout",
          "text": [
            "{'gemini-2.0-flash-001': {'input_tokens': 23, 'output_tokens': 7, 'total_tokens': 30, 'input_token_details': {'cache_read': 0}}}\n"
          ]
        }
      ]
    },
    {
      "cell_type": "markdown",
      "source": [
        "# Intro to LangGraph"
      ],
      "metadata": {
        "id": "r3ydNlMHr5KH"
      }
    },
    {
      "cell_type": "code",
      "source": [
        "from typing_extensions import TypedDict\n",
        "from langchain_core.messages import BaseMessage\n",
        "from langgraph.graph import StateGraph, START, END\n",
        "\n",
        "class CustomState(TypedDict):\n",
        "    a: int\n",
        "    b: int\n",
        "    result: int\n",
        "\n",
        "\n",
        "def _node_a(state):\n",
        "    return {\"a\": 1}\n",
        "\n",
        "def _node_b(state):\n",
        "    return {\"b\": 2}\n",
        "\n",
        "def _node_sum(state):\n",
        "    a = state[\"a\"]\n",
        "    b = state[\"b\"]\n",
        "    return {\"result\": a+b}\n",
        "\n",
        "builder = StateGraph(CustomState)\n",
        "builder.add_node(\"node_a\", _node_a)\n",
        "builder.add_node(\"node_b\", _node_b)\n",
        "builder.add_node(\"node_sum\", _node_sum)\n",
        "\n",
        "builder.add_edge(START, \"node_a\")\n",
        "builder.add_edge(START, \"node_b\")\n",
        "builder.add_edge(\"node_a\", \"node_sum\")\n",
        "builder.add_edge(\"node_b\", \"node_sum\")\n",
        "builder.add_edge(\"node_sum\", END)\n",
        "\n",
        "workflow = builder.compile()\n",
        "\n",
        "from IPython.display import Image, display\n",
        "display(Image(workflow.get_graph().draw_mermaid_png()))"
      ],
      "metadata": {
        "colab": {
          "base_uri": "https://localhost:8080/",
          "height": 425
        },
        "id": "wXX4tGjfr6xA",
        "outputId": "8e616fce-be62-475c-d13e-4514b95a7267"
      },
      "execution_count": null,
      "outputs": [
        {
          "output_type": "error",
          "ename": "ValueError",
          "evalue": "Failed to reach https://mermaid.ink/ API while trying to render your graph. Status code: 502.\n\nTo resolve this issue:\n1. Check your internet connection and try again\n2. Try with higher retry settings: `draw_mermaid_png(..., max_retries=5, retry_delay=2.0)`\n3. Use the Pyppeteer rendering method which will render your graph locally in a browser: `draw_mermaid_png(..., draw_method=MermaidDrawMethod.PYPPETEER)`",
          "traceback": [
            "\u001b[0;31m---------------------------------------------------------------------------\u001b[0m",
            "\u001b[0;31mValueError\u001b[0m                                Traceback (most recent call last)",
            "\u001b[0;32m/tmp/ipython-input-1825955264.py\u001b[0m in \u001b[0;36m<cell line: 0>\u001b[0;34m()\u001b[0m\n\u001b[1;32m     34\u001b[0m \u001b[0;34m\u001b[0m\u001b[0m\n\u001b[1;32m     35\u001b[0m \u001b[0;32mfrom\u001b[0m \u001b[0mIPython\u001b[0m\u001b[0;34m.\u001b[0m\u001b[0mdisplay\u001b[0m \u001b[0;32mimport\u001b[0m \u001b[0mImage\u001b[0m\u001b[0;34m,\u001b[0m \u001b[0mdisplay\u001b[0m\u001b[0;34m\u001b[0m\u001b[0;34m\u001b[0m\u001b[0m\n\u001b[0;32m---> 36\u001b[0;31m \u001b[0mdisplay\u001b[0m\u001b[0;34m(\u001b[0m\u001b[0mImage\u001b[0m\u001b[0;34m(\u001b[0m\u001b[0mworkflow\u001b[0m\u001b[0;34m.\u001b[0m\u001b[0mget_graph\u001b[0m\u001b[0;34m(\u001b[0m\u001b[0;34m)\u001b[0m\u001b[0;34m.\u001b[0m\u001b[0mdraw_mermaid_png\u001b[0m\u001b[0;34m(\u001b[0m\u001b[0;34m)\u001b[0m\u001b[0;34m)\u001b[0m\u001b[0;34m)\u001b[0m\u001b[0;34m\u001b[0m\u001b[0;34m\u001b[0m\u001b[0m\n\u001b[0m",
            "\u001b[0;32m/usr/local/lib/python3.12/dist-packages/langchain_core/runnables/graph.py\u001b[0m in \u001b[0;36mdraw_mermaid_png\u001b[0;34m(self, curve_style, node_colors, wrap_label_n_words, output_file_path, draw_method, background_color, padding, max_retries, retry_delay, frontmatter_config)\u001b[0m\n\u001b[1;32m    693\u001b[0m             \u001b[0mfrontmatter_config\u001b[0m\u001b[0;34m=\u001b[0m\u001b[0mfrontmatter_config\u001b[0m\u001b[0;34m,\u001b[0m\u001b[0;34m\u001b[0m\u001b[0;34m\u001b[0m\u001b[0m\n\u001b[1;32m    694\u001b[0m         )\n\u001b[0;32m--> 695\u001b[0;31m         return draw_mermaid_png(\n\u001b[0m\u001b[1;32m    696\u001b[0m             \u001b[0mmermaid_syntax\u001b[0m\u001b[0;34m=\u001b[0m\u001b[0mmermaid_syntax\u001b[0m\u001b[0;34m,\u001b[0m\u001b[0;34m\u001b[0m\u001b[0;34m\u001b[0m\u001b[0m\n\u001b[1;32m    697\u001b[0m             \u001b[0moutput_file_path\u001b[0m\u001b[0;34m=\u001b[0m\u001b[0moutput_file_path\u001b[0m\u001b[0;34m,\u001b[0m\u001b[0;34m\u001b[0m\u001b[0;34m\u001b[0m\u001b[0m\n",
            "\u001b[0;32m/usr/local/lib/python3.12/dist-packages/langchain_core/runnables/graph_mermaid.py\u001b[0m in \u001b[0;36mdraw_mermaid_png\u001b[0;34m(mermaid_syntax, output_file_path, draw_method, background_color, padding, max_retries, retry_delay)\u001b[0m\n\u001b[1;32m    292\u001b[0m         )\n\u001b[1;32m    293\u001b[0m     \u001b[0;32melif\u001b[0m \u001b[0mdraw_method\u001b[0m \u001b[0;34m==\u001b[0m \u001b[0mMermaidDrawMethod\u001b[0m\u001b[0;34m.\u001b[0m\u001b[0mAPI\u001b[0m\u001b[0;34m:\u001b[0m\u001b[0;34m\u001b[0m\u001b[0;34m\u001b[0m\u001b[0m\n\u001b[0;32m--> 294\u001b[0;31m         img_bytes = _render_mermaid_using_api(\n\u001b[0m\u001b[1;32m    295\u001b[0m             \u001b[0mmermaid_syntax\u001b[0m\u001b[0;34m,\u001b[0m\u001b[0;34m\u001b[0m\u001b[0;34m\u001b[0m\u001b[0m\n\u001b[1;32m    296\u001b[0m             \u001b[0moutput_file_path\u001b[0m\u001b[0;34m=\u001b[0m\u001b[0moutput_file_path\u001b[0m\u001b[0;34m,\u001b[0m\u001b[0;34m\u001b[0m\u001b[0;34m\u001b[0m\u001b[0m\n",
            "\u001b[0;32m/usr/local/lib/python3.12/dist-packages/langchain_core/runnables/graph_mermaid.py\u001b[0m in \u001b[0;36m_render_mermaid_using_api\u001b[0;34m(mermaid_syntax, output_file_path, background_color, file_type, max_retries, retry_delay)\u001b[0m\n\u001b[1;32m    449\u001b[0m                 \u001b[0;34mf\"your graph. Status code: {response.status_code}.\\n\\n\"\u001b[0m\u001b[0;34m\u001b[0m\u001b[0;34m\u001b[0m\u001b[0m\n\u001b[1;32m    450\u001b[0m             ) + error_msg_suffix\n\u001b[0;32m--> 451\u001b[0;31m             \u001b[0;32mraise\u001b[0m \u001b[0mValueError\u001b[0m\u001b[0;34m(\u001b[0m\u001b[0mmsg\u001b[0m\u001b[0;34m)\u001b[0m\u001b[0;34m\u001b[0m\u001b[0;34m\u001b[0m\u001b[0m\n\u001b[0m\u001b[1;32m    452\u001b[0m \u001b[0;34m\u001b[0m\u001b[0m\n\u001b[1;32m    453\u001b[0m         \u001b[0;32mexcept\u001b[0m \u001b[0;34m(\u001b[0m\u001b[0mrequests\u001b[0m\u001b[0;34m.\u001b[0m\u001b[0mRequestException\u001b[0m\u001b[0;34m,\u001b[0m \u001b[0mrequests\u001b[0m\u001b[0;34m.\u001b[0m\u001b[0mTimeout\u001b[0m\u001b[0;34m)\u001b[0m \u001b[0;32mas\u001b[0m \u001b[0me\u001b[0m\u001b[0;34m:\u001b[0m\u001b[0;34m\u001b[0m\u001b[0;34m\u001b[0m\u001b[0m\n",
            "\u001b[0;31mValueError\u001b[0m: Failed to reach https://mermaid.ink/ API while trying to render your graph. Status code: 502.\n\nTo resolve this issue:\n1. Check your internet connection and try again\n2. Try with higher retry settings: `draw_mermaid_png(..., max_retries=5, retry_delay=2.0)`\n3. Use the Pyppeteer rendering method which will render your graph locally in a browser: `draw_mermaid_png(..., draw_method=MermaidDrawMethod.PYPPETEER)`"
          ]
        }
      ]
    },
    {
      "cell_type": "code",
      "source": [
        "for event in workflow.stream({}, stream_mode=\"values\"):\n",
        "  print(event)"
      ],
      "metadata": {
        "colab": {
          "base_uri": "https://localhost:8080/"
        },
        "id": "13IekX73zFaz",
        "outputId": "88b01d09-a5ac-4c10-e81e-e3b94c07e5dd"
      },
      "execution_count": null,
      "outputs": [
        {
          "output_type": "stream",
          "name": "stdout",
          "text": [
            "{'a': 1, 'b': 2}\n",
            "{'a': 1, 'b': 2, 'result': 3}\n"
          ]
        }
      ]
    },
    {
      "cell_type": "code",
      "source": [
        "from typing import Literal\n",
        "\n",
        "\n",
        "class CustomState(TypedDict):\n",
        "    operation: str\n",
        "    a: int\n",
        "    b: int\n",
        "    result: int\n",
        "\n",
        "def _node_multiply(state):\n",
        "    a = state[\"a\"]\n",
        "    b = state[\"b\"]\n",
        "    return {\"result\": a*b}\n",
        "\n",
        "def _edge(state) -> Literal[\"node_sum\", \"node_multiply\"]:\n",
        "    if state[\"operation\"] == \"sum\":\n",
        "      return \"node_sum\"\n",
        "    return \"node_multiply\"\n",
        "\n",
        "builder = StateGraph(CustomState)\n",
        "builder.add_node(\"node_a\", _node_a)\n",
        "builder.add_node(\"node_b\", _node_b)\n",
        "builder.add_node(\"node_sum\", _node_sum)\n",
        "builder.add_node(\"node_multiply\", _node_multiply)\n",
        "\n",
        "builder.add_edge(START, \"node_a\")\n",
        "builder.add_edge(START, \"node_b\")\n",
        "builder.add_conditional_edges(\"node_a\", _edge)\n",
        "builder.add_conditional_edges(\"node_b\", _edge)\n",
        "builder.add_edge(\"node_sum\", END)\n",
        "builder.add_edge(\"node_multiply\", END)\n",
        "\n",
        "workflow = builder.compile()\n",
        "\n",
        "from IPython.display import Image, display\n",
        "display(Image(workflow.get_graph().draw_mermaid_png()))"
      ],
      "metadata": {
        "colab": {
          "base_uri": "https://localhost:8080/",
          "height": 425
        },
        "id": "D_PpvaYNFEsT",
        "outputId": "022899c8-7e3c-4746-be9c-601607e24e5f"
      },
      "execution_count": null,
      "outputs": [
        {
          "output_type": "error",
          "ename": "ValueError",
          "evalue": "Failed to reach https://mermaid.ink/ API while trying to render your graph. Status code: 502.\n\nTo resolve this issue:\n1. Check your internet connection and try again\n2. Try with higher retry settings: `draw_mermaid_png(..., max_retries=5, retry_delay=2.0)`\n3. Use the Pyppeteer rendering method which will render your graph locally in a browser: `draw_mermaid_png(..., draw_method=MermaidDrawMethod.PYPPETEER)`",
          "traceback": [
            "\u001b[0;31m---------------------------------------------------------------------------\u001b[0m",
            "\u001b[0;31mValueError\u001b[0m                                Traceback (most recent call last)",
            "\u001b[0;32m/tmp/ipython-input-331059433.py\u001b[0m in \u001b[0;36m<cell line: 0>\u001b[0;34m()\u001b[0m\n\u001b[1;32m     34\u001b[0m \u001b[0;34m\u001b[0m\u001b[0m\n\u001b[1;32m     35\u001b[0m \u001b[0;32mfrom\u001b[0m \u001b[0mIPython\u001b[0m\u001b[0;34m.\u001b[0m\u001b[0mdisplay\u001b[0m \u001b[0;32mimport\u001b[0m \u001b[0mImage\u001b[0m\u001b[0;34m,\u001b[0m \u001b[0mdisplay\u001b[0m\u001b[0;34m\u001b[0m\u001b[0;34m\u001b[0m\u001b[0m\n\u001b[0;32m---> 36\u001b[0;31m \u001b[0mdisplay\u001b[0m\u001b[0;34m(\u001b[0m\u001b[0mImage\u001b[0m\u001b[0;34m(\u001b[0m\u001b[0mworkflow\u001b[0m\u001b[0;34m.\u001b[0m\u001b[0mget_graph\u001b[0m\u001b[0;34m(\u001b[0m\u001b[0;34m)\u001b[0m\u001b[0;34m.\u001b[0m\u001b[0mdraw_mermaid_png\u001b[0m\u001b[0;34m(\u001b[0m\u001b[0;34m)\u001b[0m\u001b[0;34m)\u001b[0m\u001b[0;34m)\u001b[0m\u001b[0;34m\u001b[0m\u001b[0;34m\u001b[0m\u001b[0m\n\u001b[0m",
            "\u001b[0;32m/usr/local/lib/python3.12/dist-packages/langchain_core/runnables/graph.py\u001b[0m in \u001b[0;36mdraw_mermaid_png\u001b[0;34m(self, curve_style, node_colors, wrap_label_n_words, output_file_path, draw_method, background_color, padding, max_retries, retry_delay, frontmatter_config)\u001b[0m\n\u001b[1;32m    693\u001b[0m             \u001b[0mfrontmatter_config\u001b[0m\u001b[0;34m=\u001b[0m\u001b[0mfrontmatter_config\u001b[0m\u001b[0;34m,\u001b[0m\u001b[0;34m\u001b[0m\u001b[0;34m\u001b[0m\u001b[0m\n\u001b[1;32m    694\u001b[0m         )\n\u001b[0;32m--> 695\u001b[0;31m         return draw_mermaid_png(\n\u001b[0m\u001b[1;32m    696\u001b[0m             \u001b[0mmermaid_syntax\u001b[0m\u001b[0;34m=\u001b[0m\u001b[0mmermaid_syntax\u001b[0m\u001b[0;34m,\u001b[0m\u001b[0;34m\u001b[0m\u001b[0;34m\u001b[0m\u001b[0m\n\u001b[1;32m    697\u001b[0m             \u001b[0moutput_file_path\u001b[0m\u001b[0;34m=\u001b[0m\u001b[0moutput_file_path\u001b[0m\u001b[0;34m,\u001b[0m\u001b[0;34m\u001b[0m\u001b[0;34m\u001b[0m\u001b[0m\n",
            "\u001b[0;32m/usr/local/lib/python3.12/dist-packages/langchain_core/runnables/graph_mermaid.py\u001b[0m in \u001b[0;36mdraw_mermaid_png\u001b[0;34m(mermaid_syntax, output_file_path, draw_method, background_color, padding, max_retries, retry_delay)\u001b[0m\n\u001b[1;32m    292\u001b[0m         )\n\u001b[1;32m    293\u001b[0m     \u001b[0;32melif\u001b[0m \u001b[0mdraw_method\u001b[0m \u001b[0;34m==\u001b[0m \u001b[0mMermaidDrawMethod\u001b[0m\u001b[0;34m.\u001b[0m\u001b[0mAPI\u001b[0m\u001b[0;34m:\u001b[0m\u001b[0;34m\u001b[0m\u001b[0;34m\u001b[0m\u001b[0m\n\u001b[0;32m--> 294\u001b[0;31m         img_bytes = _render_mermaid_using_api(\n\u001b[0m\u001b[1;32m    295\u001b[0m             \u001b[0mmermaid_syntax\u001b[0m\u001b[0;34m,\u001b[0m\u001b[0;34m\u001b[0m\u001b[0;34m\u001b[0m\u001b[0m\n\u001b[1;32m    296\u001b[0m             \u001b[0moutput_file_path\u001b[0m\u001b[0;34m=\u001b[0m\u001b[0moutput_file_path\u001b[0m\u001b[0;34m,\u001b[0m\u001b[0;34m\u001b[0m\u001b[0;34m\u001b[0m\u001b[0m\n",
            "\u001b[0;32m/usr/local/lib/python3.12/dist-packages/langchain_core/runnables/graph_mermaid.py\u001b[0m in \u001b[0;36m_render_mermaid_using_api\u001b[0;34m(mermaid_syntax, output_file_path, background_color, file_type, max_retries, retry_delay)\u001b[0m\n\u001b[1;32m    449\u001b[0m                 \u001b[0;34mf\"your graph. Status code: {response.status_code}.\\n\\n\"\u001b[0m\u001b[0;34m\u001b[0m\u001b[0;34m\u001b[0m\u001b[0m\n\u001b[1;32m    450\u001b[0m             ) + error_msg_suffix\n\u001b[0;32m--> 451\u001b[0;31m             \u001b[0;32mraise\u001b[0m \u001b[0mValueError\u001b[0m\u001b[0;34m(\u001b[0m\u001b[0mmsg\u001b[0m\u001b[0;34m)\u001b[0m\u001b[0;34m\u001b[0m\u001b[0;34m\u001b[0m\u001b[0m\n\u001b[0m\u001b[1;32m    452\u001b[0m \u001b[0;34m\u001b[0m\u001b[0m\n\u001b[1;32m    453\u001b[0m         \u001b[0;32mexcept\u001b[0m \u001b[0;34m(\u001b[0m\u001b[0mrequests\u001b[0m\u001b[0;34m.\u001b[0m\u001b[0mRequestException\u001b[0m\u001b[0;34m,\u001b[0m \u001b[0mrequests\u001b[0m\u001b[0;34m.\u001b[0m\u001b[0mTimeout\u001b[0m\u001b[0;34m)\u001b[0m \u001b[0;32mas\u001b[0m \u001b[0me\u001b[0m\u001b[0;34m:\u001b[0m\u001b[0;34m\u001b[0m\u001b[0;34m\u001b[0m\u001b[0m\n",
            "\u001b[0;31mValueError\u001b[0m: Failed to reach https://mermaid.ink/ API while trying to render your graph. Status code: 502.\n\nTo resolve this issue:\n1. Check your internet connection and try again\n2. Try with higher retry settings: `draw_mermaid_png(..., max_retries=5, retry_delay=2.0)`\n3. Use the Pyppeteer rendering method which will render your graph locally in a browser: `draw_mermaid_png(..., draw_method=MermaidDrawMethod.PYPPETEER)`"
          ]
        }
      ]
    },
    {
      "cell_type": "code",
      "source": [
        "initial_state = {\"operation\": \"add\"}\n",
        "for event in workflow.stream(initial_state, stream_mode=\"values\"):\n",
        "  print(event)"
      ],
      "metadata": {
        "colab": {
          "base_uri": "https://localhost:8080/"
        },
        "id": "kcKuzoqzFF8T",
        "outputId": "c358002d-0e63-4f46-f211-59b04d1908ae"
      },
      "execution_count": null,
      "outputs": [
        {
          "output_type": "stream",
          "name": "stdout",
          "text": [
            "{'operation': 'add'}\n",
            "{'operation': 'add', 'a': 1, 'b': 2}\n",
            "{'operation': 'add', 'a': 1, 'b': 2, 'result': 2}\n"
          ]
        }
      ]
    },
    {
      "cell_type": "code",
      "source": [
        "for event in workflow.stream({'operation': 'multiply'}, stream_mode=\"values\"):\n",
        "  print(event)"
      ],
      "metadata": {
        "colab": {
          "base_uri": "https://localhost:8080/"
        },
        "id": "TvPfUigiFaZo",
        "outputId": "1cf32266-fea7-400d-a7d3-9920b193a4cc"
      },
      "execution_count": null,
      "outputs": [
        {
          "output_type": "stream",
          "name": "stdout",
          "text": [
            "{'operation': 'multiply'}\n",
            "{'operation': 'multiply', 'a': 1, 'b': 2}\n",
            "{'operation': 'multiply', 'a': 1, 'b': 2, 'result': 2}\n"
          ]
        }
      ]
    },
    {
      "cell_type": "code",
      "source": [
        "result = await workflow.ainvoke(initial_state)\n",
        "print(result)"
      ],
      "metadata": {
        "colab": {
          "base_uri": "https://localhost:8080/"
        },
        "id": "L55piTzpzbyO",
        "outputId": "41c2abea-8a62-4817-cdcb-fc7a707be64b"
      },
      "execution_count": null,
      "outputs": [
        {
          "output_type": "stream",
          "name": "stdout",
          "text": [
            "{'operation': 'add', 'a': 1, 'b': 2, 'result': 2}\n"
          ]
        }
      ]
    },
    {
      "cell_type": "markdown",
      "source": [
        "Now, let's take at reducers. We saw the default reducer - it replaces the value in the state. Another option is to use a built-in reducer, for example `add` with a list:"
      ],
      "metadata": {
        "id": "_Z47F4MMEclR"
      }
    },
    {
      "cell_type": "code",
      "source": [
        "from operator import add\n",
        "\n",
        "add([1, 2], [3])"
      ],
      "metadata": {
        "colab": {
          "base_uri": "https://localhost:8080/"
        },
        "id": "n1eJTXNJlu75",
        "outputId": "3558ae44-185f-471a-8117-5dec1f61f953"
      },
      "execution_count": null,
      "outputs": [
        {
          "output_type": "execute_result",
          "data": {
            "text/plain": [
              "[1, 2, 3]"
            ]
          },
          "metadata": {},
          "execution_count": 40
        }
      ]
    },
    {
      "cell_type": "code",
      "source": [
        "from operator import add\n",
        "from typing import Annotated\n",
        "\n",
        "class CustomState(TypedDict):\n",
        "    values: Annotated[list[int], add]\n",
        "    result: int\n",
        "\n",
        "\n",
        "def _node_a(state):\n",
        "    return {\"values\": [1]}\n",
        "\n",
        "def _node_b(state):\n",
        "    return {\"values\": [2]}\n",
        "\n",
        "def _node_sum(state):\n",
        "    return {\"result\": sum(state[\"values\"])}\n",
        "\n",
        "builder = StateGraph(CustomState)\n",
        "builder.add_node(\"node_a\", _node_a)\n",
        "builder.add_node(\"node_b\", _node_b)\n",
        "builder.add_node(\"node_sum\", _node_sum)\n",
        "\n",
        "builder.add_edge(START, \"node_a\")\n",
        "builder.add_edge(\"node_a\", \"node_b\")\n",
        "builder.add_edge(\"node_b\", \"node_sum\")\n",
        "builder.add_edge(\"node_sum\", END)\n",
        "\n",
        "workflow = builder.compile()\n",
        "\n",
        "from IPython.display import Image, display\n",
        "display(Image(workflow.get_graph().draw_mermaid_png()))"
      ],
      "metadata": {
        "colab": {
          "base_uri": "https://localhost:8080/",
          "height": 425
        },
        "id": "z6v3YakjEMav",
        "outputId": "a5ceb75a-8b3e-49df-e6f5-fa9fe06197aa"
      },
      "execution_count": null,
      "outputs": [
        {
          "output_type": "error",
          "ename": "ValueError",
          "evalue": "Failed to reach https://mermaid.ink/ API while trying to render your graph. Status code: 502.\n\nTo resolve this issue:\n1. Check your internet connection and try again\n2. Try with higher retry settings: `draw_mermaid_png(..., max_retries=5, retry_delay=2.0)`\n3. Use the Pyppeteer rendering method which will render your graph locally in a browser: `draw_mermaid_png(..., draw_method=MermaidDrawMethod.PYPPETEER)`",
          "traceback": [
            "\u001b[0;31m---------------------------------------------------------------------------\u001b[0m",
            "\u001b[0;31mValueError\u001b[0m                                Traceback (most recent call last)",
            "\u001b[0;32m/tmp/ipython-input-919396344.py\u001b[0m in \u001b[0;36m<cell line: 0>\u001b[0;34m()\u001b[0m\n\u001b[1;32m     29\u001b[0m \u001b[0;34m\u001b[0m\u001b[0m\n\u001b[1;32m     30\u001b[0m \u001b[0;32mfrom\u001b[0m \u001b[0mIPython\u001b[0m\u001b[0;34m.\u001b[0m\u001b[0mdisplay\u001b[0m \u001b[0;32mimport\u001b[0m \u001b[0mImage\u001b[0m\u001b[0;34m,\u001b[0m \u001b[0mdisplay\u001b[0m\u001b[0;34m\u001b[0m\u001b[0;34m\u001b[0m\u001b[0m\n\u001b[0;32m---> 31\u001b[0;31m \u001b[0mdisplay\u001b[0m\u001b[0;34m(\u001b[0m\u001b[0mImage\u001b[0m\u001b[0;34m(\u001b[0m\u001b[0mworkflow\u001b[0m\u001b[0;34m.\u001b[0m\u001b[0mget_graph\u001b[0m\u001b[0;34m(\u001b[0m\u001b[0;34m)\u001b[0m\u001b[0;34m.\u001b[0m\u001b[0mdraw_mermaid_png\u001b[0m\u001b[0;34m(\u001b[0m\u001b[0;34m)\u001b[0m\u001b[0;34m)\u001b[0m\u001b[0;34m)\u001b[0m\u001b[0;34m\u001b[0m\u001b[0;34m\u001b[0m\u001b[0m\n\u001b[0m",
            "\u001b[0;32m/usr/local/lib/python3.12/dist-packages/langchain_core/runnables/graph.py\u001b[0m in \u001b[0;36mdraw_mermaid_png\u001b[0;34m(self, curve_style, node_colors, wrap_label_n_words, output_file_path, draw_method, background_color, padding, max_retries, retry_delay, frontmatter_config)\u001b[0m\n\u001b[1;32m    693\u001b[0m             \u001b[0mfrontmatter_config\u001b[0m\u001b[0;34m=\u001b[0m\u001b[0mfrontmatter_config\u001b[0m\u001b[0;34m,\u001b[0m\u001b[0;34m\u001b[0m\u001b[0;34m\u001b[0m\u001b[0m\n\u001b[1;32m    694\u001b[0m         )\n\u001b[0;32m--> 695\u001b[0;31m         return draw_mermaid_png(\n\u001b[0m\u001b[1;32m    696\u001b[0m             \u001b[0mmermaid_syntax\u001b[0m\u001b[0;34m=\u001b[0m\u001b[0mmermaid_syntax\u001b[0m\u001b[0;34m,\u001b[0m\u001b[0;34m\u001b[0m\u001b[0;34m\u001b[0m\u001b[0m\n\u001b[1;32m    697\u001b[0m             \u001b[0moutput_file_path\u001b[0m\u001b[0;34m=\u001b[0m\u001b[0moutput_file_path\u001b[0m\u001b[0;34m,\u001b[0m\u001b[0;34m\u001b[0m\u001b[0;34m\u001b[0m\u001b[0m\n",
            "\u001b[0;32m/usr/local/lib/python3.12/dist-packages/langchain_core/runnables/graph_mermaid.py\u001b[0m in \u001b[0;36mdraw_mermaid_png\u001b[0;34m(mermaid_syntax, output_file_path, draw_method, background_color, padding, max_retries, retry_delay)\u001b[0m\n\u001b[1;32m    292\u001b[0m         )\n\u001b[1;32m    293\u001b[0m     \u001b[0;32melif\u001b[0m \u001b[0mdraw_method\u001b[0m \u001b[0;34m==\u001b[0m \u001b[0mMermaidDrawMethod\u001b[0m\u001b[0;34m.\u001b[0m\u001b[0mAPI\u001b[0m\u001b[0;34m:\u001b[0m\u001b[0;34m\u001b[0m\u001b[0;34m\u001b[0m\u001b[0m\n\u001b[0;32m--> 294\u001b[0;31m         img_bytes = _render_mermaid_using_api(\n\u001b[0m\u001b[1;32m    295\u001b[0m             \u001b[0mmermaid_syntax\u001b[0m\u001b[0;34m,\u001b[0m\u001b[0;34m\u001b[0m\u001b[0;34m\u001b[0m\u001b[0m\n\u001b[1;32m    296\u001b[0m             \u001b[0moutput_file_path\u001b[0m\u001b[0;34m=\u001b[0m\u001b[0moutput_file_path\u001b[0m\u001b[0;34m,\u001b[0m\u001b[0;34m\u001b[0m\u001b[0;34m\u001b[0m\u001b[0m\n",
            "\u001b[0;32m/usr/local/lib/python3.12/dist-packages/langchain_core/runnables/graph_mermaid.py\u001b[0m in \u001b[0;36m_render_mermaid_using_api\u001b[0;34m(mermaid_syntax, output_file_path, background_color, file_type, max_retries, retry_delay)\u001b[0m\n\u001b[1;32m    449\u001b[0m                 \u001b[0;34mf\"your graph. Status code: {response.status_code}.\\n\\n\"\u001b[0m\u001b[0;34m\u001b[0m\u001b[0;34m\u001b[0m\u001b[0m\n\u001b[1;32m    450\u001b[0m             ) + error_msg_suffix\n\u001b[0;32m--> 451\u001b[0;31m             \u001b[0;32mraise\u001b[0m \u001b[0mValueError\u001b[0m\u001b[0;34m(\u001b[0m\u001b[0mmsg\u001b[0m\u001b[0;34m)\u001b[0m\u001b[0;34m\u001b[0m\u001b[0;34m\u001b[0m\u001b[0m\n\u001b[0m\u001b[1;32m    452\u001b[0m \u001b[0;34m\u001b[0m\u001b[0m\n\u001b[1;32m    453\u001b[0m         \u001b[0;32mexcept\u001b[0m \u001b[0;34m(\u001b[0m\u001b[0mrequests\u001b[0m\u001b[0;34m.\u001b[0m\u001b[0mRequestException\u001b[0m\u001b[0;34m,\u001b[0m \u001b[0mrequests\u001b[0m\u001b[0;34m.\u001b[0m\u001b[0mTimeout\u001b[0m\u001b[0;34m)\u001b[0m \u001b[0;32mas\u001b[0m \u001b[0me\u001b[0m\u001b[0;34m:\u001b[0m\u001b[0;34m\u001b[0m\u001b[0;34m\u001b[0m\u001b[0m\n",
            "\u001b[0;31mValueError\u001b[0m: Failed to reach https://mermaid.ink/ API while trying to render your graph. Status code: 502.\n\nTo resolve this issue:\n1. Check your internet connection and try again\n2. Try with higher retry settings: `draw_mermaid_png(..., max_retries=5, retry_delay=2.0)`\n3. Use the Pyppeteer rendering method which will render your graph locally in a browser: `draw_mermaid_png(..., draw_method=MermaidDrawMethod.PYPPETEER)`"
          ]
        }
      ]
    },
    {
      "cell_type": "code",
      "source": [
        "for event in workflow.stream({}, stream_mode=\"values\"):\n",
        "  print(event)"
      ],
      "metadata": {
        "colab": {
          "base_uri": "https://localhost:8080/"
        },
        "id": "ZELGTJDfGAjv",
        "outputId": "90bd1c38-8db2-455b-c3c3-cf23a37e0123"
      },
      "execution_count": null,
      "outputs": [
        {
          "output_type": "stream",
          "name": "stdout",
          "text": [
            "{'values': [1]}\n",
            "{'values': [1, 2]}\n",
            "{'values': [1, 2], 'result': 3}\n"
          ]
        }
      ]
    },
    {
      "cell_type": "markdown",
      "source": [
        "Now, let's take a look at custom reducers:"
      ],
      "metadata": {
        "id": "L11YZ0T0Gmrf"
      }
    },
    {
      "cell_type": "code",
      "source": [
        "def my_reducer(left: int, right: int) -> int:\n",
        "  if right:\n",
        "    return left + right\n",
        "  return left"
      ],
      "metadata": {
        "id": "BhY8hybpGOBs"
      },
      "execution_count": null,
      "outputs": []
    },
    {
      "cell_type": "code",
      "source": [
        "from operator import add\n",
        "from typing import Annotated\n",
        "\n",
        "class CustomState(TypedDict):\n",
        "    value: Annotated[int, my_reducer]\n",
        "\n",
        "\n",
        "def _node_a(state):\n",
        "    return {\"value\": 1}\n",
        "\n",
        "def _node_b(state):\n",
        "    return {\"value\": 2}\n",
        "\n",
        "builder = StateGraph(CustomState)\n",
        "builder.add_node(\"node_a\", _node_a)\n",
        "builder.add_node(\"node_b\", _node_b)\n",
        "\n",
        "builder.add_edge(START, \"node_a\")\n",
        "builder.add_edge(\"node_a\", \"node_b\")\n",
        "builder.add_edge(\"node_b\", END)\n",
        "\n",
        "workflow = builder.compile()\n",
        "\n",
        "from IPython.display import Image, display\n",
        "display(Image(workflow.get_graph().draw_mermaid_png()))"
      ],
      "metadata": {
        "colab": {
          "base_uri": "https://localhost:8080/",
          "height": 350
        },
        "id": "DarbOmATGZGA",
        "outputId": "4430676f-0e1d-4331-abb6-65e55e965105"
      },
      "execution_count": null,
      "outputs": [
        {
          "output_type": "display_data",
          "data": {
            "image/png": "[encoded data removed]",
            "text/plain": [
              "<IPython.core.display.Image object>"
            ]
          },
          "metadata": {}
        }
      ]
    },
    {
      "cell_type": "code",
      "source": [
        "for event in workflow.stream({}, stream_mode=\"values\"):\n",
        "  print(event)"
      ],
      "metadata": {
        "colab": {
          "base_uri": "https://localhost:8080/"
        },
        "id": "qEMi_n_SGgNn",
        "outputId": "b0a4c6dd-455b-401e-a465-19a67deb1887"
      },
      "execution_count": null,
      "outputs": [
        {
          "output_type": "stream",
          "name": "stdout",
          "text": [
            "{'values': [1]}\n",
            "{'values': [1, 2]}\n",
            "{'values': [1, 2], 'result': 3}\n"
          ]
        }
      ]
    },
    {
      "cell_type": "code",
      "source": [
        "step2 = llm.invoke([user_input, step1, (\"human\", \"How many people live there?\")])"
      ],
      "metadata": {
        "id": "9g2EZH_Xhk8L"
      },
      "execution_count": null,
      "outputs": []
    },
    {
      "cell_type": "code",
      "source": [
        "print(step2.content)"
      ],
      "metadata": {
        "colab": {
          "base_uri": "https://localhost:8080/"
        },
        "id": "lMJMoHr1hqj1",
        "outputId": "003563fb-3be4-4add-bf74-d53ee0167caf"
      },
      "execution_count": null,
      "outputs": [
        {
          "output_type": "stream",
          "name": "stdout",
          "text": [
            "The population of Washington, D.C. is estimated to be around **689,545** as of 2020.\n"
          ]
        }
      ]
    },
    {
      "cell_type": "markdown",
      "source": [
        "# Tracing"
      ],
      "metadata": {
        "id": "Mvnz8m_DMMmU"
      }
    },
    {
      "cell_type": "code",
      "source": [
        "llm = ChatGoogleGenerativeAI(model=\"gemini-2.0-flash-001\", google_api_key=google_api_key)\n",
        "result = llm.invoke(\"What is the capital of the USA?\")\n",
        "print(result.content)"
      ],
      "metadata": {
        "colab": {
          "base_uri": "https://localhost:8080/"
        },
        "id": "Gfd9iVl7Jr-u",
        "outputId": "3e3234da-1efb-45bf-dbed-430d7b0ff547"
      },
      "execution_count": null,
      "outputs": [
        {
          "output_type": "stream",
          "name": "stdout",
          "text": [
            "The capital of the USA is **Washington, D.C.**\n"
          ]
        }
      ]
    },
    {
      "cell_type": "code",
      "source": [
        "from langsmith import traceable\n",
        "\n",
        "@traceable\n",
        "def run():\n",
        "  return llm.invoke(\"What is the capital of the USA?\")"
      ],
      "metadata": {
        "id": "T3baOgBiJ_J5"
      },
      "execution_count": null,
      "outputs": []
    },
    {
      "cell_type": "code",
      "source": [
        "from langsmith import Client, tracing_context, traceable\n",
        "from langsmith.wrappers import wrap_openai\n",
        "\n",
        "langsmith_client = Client(\n",
        "  api_key=userdata.get('LANGSMITH_API_KEY'),\n",
        "  api_url=\"https://api.smith.langchain.com\"\n",
        ")"
      ],
      "metadata": {
        "id": "oyOIhP0sKinK"
      },
      "execution_count": null,
      "outputs": []
    },
    {
      "cell_type": "code",
      "source": [
        "with tracing_context(enabled=True):\n",
        "  result = llm.invoke(\"What is the capital of the USA?\")"
      ],
      "metadata": {
        "id": "bCLB7583Kum7"
      },
      "execution_count": null,
      "outputs": []
    },
    {
      "cell_type": "code",
      "source": [
        "result = llm.invoke(\"What is the capital of UK?\")"
      ],
      "metadata": {
        "id": "Nb0XzmgdK-K2"
      },
      "execution_count": null,
      "outputs": []
    },
    {
      "cell_type": "markdown",
      "source": [
        "# Using external tools"
      ],
      "metadata": {
        "id": "CKQKlH4Ehs0S"
      }
    },
    {
      "cell_type": "code",
      "source": [
        "from langchain_core.prompts import PromptTemplate\n"
      ],
      "metadata": {
        "id": "k923Q9sIhvGZ"
      },
      "execution_count": null,
      "outputs": []
    },
    {
      "cell_type": "markdown",
      "source": [
        "Let's demonstrate how we can instruct an LLM to use an external tool:"
      ],
      "metadata": {
        "id": "JGUb7713i7Bm"
      }
    },
    {
      "cell_type": "code",
      "source": [
        "task = (\n",
        "    \"In 1990, the average cost of a gallon of gasoline was $1.16. If the \"\n",
        "    \"inflation rate from 1990 to today has been a cumulative 180%, what would \"\n",
        "    \"that gallon of gas cost in today's money? How does that compare to the \"\n",
        "    \"current average price of gas?\"\n",
        ")\n",
        "\n",
        "raw_prompt_template = (\n",
        "  \"You have access to search engine that provides you an \"\n",
        "  \"information about current events. \"\n",
        "  \"Given the question, decide whether you need an additional \"\n",
        "  \"information from the search engine, and if yes, reply with 'SEARCH: \"\n",
        "   \"<generated query>'. Only if you know enough to answer the user \"\n",
        "   \"then reply with 'RESPONSE <final response>').\\n\"\n",
        "   \"Now, act to answer a user question:\\n{question}\"\n",
        ")\n",
        "prompt_template = PromptTemplate.from_template(raw_prompt_template)\n",
        "\n",
        "response = (prompt_template | llm).invoke(task)\n",
        "print(response.content)"
      ],
      "metadata": {
        "colab": {
          "base_uri": "https://localhost:8080/"
        },
        "id": "Sh4Wd-G3h4Y1",
        "outputId": "843b014c-5d17-4ce8-f07a-fb671c3ba1c5"
      },
      "execution_count": null,
      "outputs": [
        {
          "output_type": "stream",
          "name": "stdout",
          "text": [
            "SEARCH: average gas price today\n"
          ]
        }
      ]
    },
    {
      "cell_type": "markdown",
      "source": [
        "Technical note: a _PromptTemplate_ allows you substitute variables when executing the chain:"
      ],
      "metadata": {
        "id": "Z3REc5mrkpWH"
      }
    },
    {
      "cell_type": "code",
      "source": [
        "prompt_template.invoke({\"question\": \"TEST\"})"
      ],
      "metadata": {
        "colab": {
          "base_uri": "https://localhost:8080/"
        },
        "id": "07_b8fCHkup9",
        "outputId": "f714fe31-944f-49bc-b072-3cebfd0fe0b8"
      },
      "execution_count": null,
      "outputs": [
        {
          "output_type": "execute_result",
          "data": {
            "text/plain": [
              "StringPromptValue(text=\"You have access to search engine that provides you an information about current events. Given the question, decide whether you need an additional information from the search engine, and if yes, reply with 'SEARCH: <generated query>'. Only if you know enough to answer the user then reply with 'RESPONSE <final response>').\\nNow, act to answer a user question:\\nTEST\")"
            ]
          },
          "metadata": {},
          "execution_count": 56
        }
      ]
    },
    {
      "cell_type": "code",
      "source": [
        "query = \"average gas price today\"\n",
        "search_result = \"3.349\""
      ],
      "metadata": {
        "id": "SkYzBWspmWN9"
      },
      "execution_count": null,
      "outputs": []
    },
    {
      "cell_type": "code",
      "source": [
        "raw_prompt_template = (\n",
        "  \"You have access to search engine that provides you an \"\n",
        "  \"information about current events. \"\n",
        "  \"Given the question, decide whether you need an additional \"\n",
        "  \"information from the search engine, and if yes, reply with 'SEARCH: \"\n",
        "   \"<generated query>'. Only if you know enough to answer the user \"\n",
        "   \"then reply with 'RESPONSE <final response>').\\n\"\n",
        "   #\"Today is {date}.\"\n",
        "   \"Now, act to answer a user question and \"\n",
        "   \"take into account your previous actions:\\n\"\n",
        "   \"HUMAN: {question}\\n\"\n",
        "   \"AI: SEARCH: {query}\\n\"\n",
        "   \"RESPONSE FROM SEARCH: {search_result}\\n\"\n",
        ")\n",
        "prompt_template = PromptTemplate.from_template(raw_prompt_template)\n",
        "\n",
        "result = (prompt_template | llm).invoke({\"question\": task, \"query\": query, \"search_result\": search_result, \"date\": \"Feb 2025\"})\n",
        "print(result.content)"
      ],
      "metadata": {
        "colab": {
          "base_uri": "https://localhost:8080/"
        },
        "id": "5K4EDs_XlAYu",
        "outputId": "14a2fcb3-0d4c-438d-ebf7-8b9c86cc2be9"
      },
      "execution_count": null,
      "outputs": [
        {
          "output_type": "stream",
          "name": "stdout",
          "text": [
            "RESPONSE: With a cumulative inflation rate of 180% from 1990, a gallon of gas that cost $1.16 in 1990 would cost $3.25 in today's money (1.16 * 2.80 = 3.248). The current average price of gas is $3.35, which is about 10 cents more than the inflation-adjusted price from 1990.\n"
          ]
        }
      ]
    },
    {
      "cell_type": "markdown",
      "source": [
        "# Creating tools with LangChain"
      ],
      "metadata": {
        "id": "jDUNa8RKmoIM"
      }
    },
    {
      "cell_type": "markdown",
      "source": [
        "Let's use a DuckDuckGo search through LangChain:"
      ],
      "metadata": {
        "id": "6DY35rHYm9XS"
      }
    },
    {
      "cell_type": "code",
      "source": [
        "from langchain_community.tools import DuckDuckGoSearchRun\n",
        "\n",
        "search = DuckDuckGoSearchRun()\n",
        "print(f\"Tool's name = {search.name}\")\n",
        "print(f\"Tool's name = {search.description}\")\n",
        "print(f\"Tool's arg schema = {search.args_schema}\")"
      ],
      "metadata": {
        "colab": {
          "base_uri": "https://localhost:8080/"
        },
        "id": "z5m-A_wCmpz4",
        "outputId": "bc50fabe-a911-4ce7-95a6-453897ef59b7"
      },
      "execution_count": null,
      "outputs": [
        {
          "output_type": "stream",
          "name": "stdout",
          "text": [
            "Tool's name = duckduckgo_search\n",
            "Tool's name = A wrapper around DuckDuckGo Search. Useful for when you need to answer questions about current events. Input should be a search query.\n",
            "Tool's arg schema = <class 'langchain_community.tools.ddg_search.tool.DDGInput'>\n"
          ]
        }
      ]
    },
    {
      "cell_type": "code",
      "source": [
        "from langchain_community.tools.ddg_search.tool import DDGInput\n",
        "\n",
        "print(DDGInput.model_fields)"
      ],
      "metadata": {
        "colab": {
          "base_uri": "https://localhost:8080/"
        },
        "id": "UbKbhjk-m8u3",
        "outputId": "66a8cb24-1089-4f53-eea0-94394c98f0ac"
      },
      "execution_count": null,
      "outputs": [
        {
          "output_type": "stream",
          "name": "stdout",
          "text": [
            "{'query': FieldInfo(annotation=str, required=True, description='search query to look up')}\n"
          ]
        }
      ]
    },
    {
      "cell_type": "code",
      "source": [
        "query = \"What is the weather in Munich like tomorrow?\"\n",
        "search_input = DDGInput(query=query)\n",
        "result = search.invoke(search_input.model_dump())\n",
        "print(result)"
      ],
      "metadata": {
        "colab": {
          "base_uri": "https://localhost:8080/"
        },
        "id": "LWxbW_j4nFP1",
        "outputId": "50a3cb9e-7657-4d95-a723-ca37ddcd46e4"
      },
      "execution_count": null,
      "outputs": [
        {
          "output_type": "stream",
          "name": "stdout",
          "text": [
            "Everything you need to know about tomorrow ' s weather in Munich , Bavaria, Germany. High/Low, Precipitation Chances, Sunrise/Sunset, and tomorrow 's Temperature History. Aug 28, 2025 · Munich , Germany - Detailed weather forecast for tomorrow . Hourly forecast for tomorrow - including weather conditions, temperature, pressure, humidity, precipitation, dewpoint, wind, visibility, and UV index data. 3 days ago · Get the latest hourly weather updates for Munich tomorrow . Detailed forecast including temperature, wind, rain, snow, and UV index. Stay informed about tomorrow 's weather conditions in Munich . Aug 27, 2025 · Latest weather forecast for Munich for tomorrow 's, hourly weather forecast, including tomorrow 's temperatures in Munich , wind, rain and more. Current weather in Munich and forecast for today, tomorrow , and next 14 days Nov 27, 2024 · Geomagnetic activity Kp index tomorrow Forecast of geomagnetic activity for tomorrow . Three-hour forecast of the Kp planetary index The highest geomagnetic activity index tomorrow is predicted to be 2 points. No geomagnetic storms are not expected tomorrow . Get accurate hourly forecasts for today, tonight, and tomorrow , along with 10-day daily forecasts and weather radar for Munich , Bavaria, Germany with MSN Weather . Stay updated on... Current weather in Munich and forecast for today, tomorrow , and next 14 days\n"
          ]
        }
      ]
    },
    {
      "cell_type": "code",
      "source": [
        "isinstance(result, str)"
      ],
      "metadata": {
        "colab": {
          "base_uri": "https://localhost:8080/"
        },
        "id": "xnl266NKnKGd",
        "outputId": "e7a60921-189d-4f30-b968-d55f4bdeced0"
      },
      "execution_count": null,
      "outputs": [
        {
          "output_type": "execute_result",
          "data": {
            "text/plain": [
              "True"
            ]
          },
          "metadata": {},
          "execution_count": 64
        }
      ]
    },
    {
      "cell_type": "markdown",
      "source": [
        "Another example - let's use a web API to instruct an LLM to get the latest information about FX rates:"
      ],
      "metadata": {
        "id": "ZvfwWJ0VnnWL"
      }
    },
    {
      "cell_type": "code",
      "source": [
        "api_spec = \"\"\"\n",
        "openapi: 3.0.0\n",
        "info:\n",
        "  title: Frankfurter Currency Exchange API\n",
        "  version: v1\n",
        "  description: API for retrieving currency exchange rates. Pay attention to the base currency and change it if needed.\n",
        "\n",
        "servers:\n",
        "  - url: https://api.frankfurter.dev/v1\n",
        "\n",
        "paths:\n",
        "  /v1/{date}:\n",
        "    get:\n",
        "      summary: Get exchange rates for a specific date.\n",
        "      parameters:\n",
        "        - in: path\n",
        "          name: date\n",
        "          schema:\n",
        "            type: string\n",
        "            pattern: '^\\d{4}-\\d{2}-\\d{2}$' # YYYY-MM-DD format\n",
        "          required: true\n",
        "          description: The date for which to retrieve exchange rates.  Use YYYY-MM-DD format.  Example: 2009-01-04\n",
        "        - in: query\n",
        "          name: symbols\n",
        "          schema:\n",
        "            type: string\n",
        "          description: Comma-separated list of currency symbols to retrieve rates for. Example: GBP,USD,EUR\n",
        "\n",
        "  /v1/latest:\n",
        "    get:\n",
        "      summary: Get the latest exchange rates.\n",
        "      parameters:\n",
        "        - in: query\n",
        "          name: symbols\n",
        "          schema:\n",
        "            type: string\n",
        "          description: Comma-separated list of currency symbols to retrieve rates for. Example: CHF,GBP\n",
        "        - in: query\n",
        "          name: base\n",
        "          schema:\n",
        "            type: string\n",
        "          description: The base currency for the exchange rates. If not provided, EUR is used as a base currency. Example: USD\n",
        "\"\"\""
      ],
      "metadata": {
        "id": "LKDmxcVlnOBe",
        "colab": {
          "base_uri": "https://localhost:8080/"
        },
        "outputId": "8a292bba-853d-4c32-fc43-e88e5f43a64c"
      },
      "execution_count": null,
      "outputs": [
        {
          "output_type": "stream",
          "name": "stderr",
          "text": [
            "<>:20: SyntaxWarning: invalid escape sequence '\\d'\n",
            "<>:20: SyntaxWarning: invalid escape sequence '\\d'\n",
            "/tmp/ipython-input-2022118673.py:20: SyntaxWarning: invalid escape sequence '\\d'\n",
            "  pattern: '^\\d{4}-\\d{2}-\\d{2}$' # YYYY-MM-DD format\n"
          ]
        }
      ]
    },
    {
      "cell_type": "code",
      "source": [
        "from langchain_community.agent_toolkits.openapi.toolkit import RequestsToolkit\n",
        "from langchain_community.utilities.requests import TextRequestsWrapper\n",
        "\n",
        "toolkit = RequestsToolkit(\n",
        "    requests_wrapper=TextRequestsWrapper(headers={}),\n",
        "    allow_dangerous_requests=True,\n",
        ")\n",
        "\n",
        "for tool in toolkit.get_tools():\n",
        "  print(tool.name)"
      ],
      "metadata": {
        "colab": {
          "base_uri": "https://localhost:8080/"
        },
        "id": "QG_Z_-23nv4-",
        "outputId": "6a177b55-a6bb-4aac-a106-535eafd533bd"
      },
      "execution_count": null,
      "outputs": [
        {
          "output_type": "stream",
          "name": "stdout",
          "text": [
            "requests_get\n",
            "requests_post\n",
            "requests_patch\n",
            "requests_put\n",
            "requests_delete\n"
          ]
        }
      ]
    },
    {
      "cell_type": "code",
      "source": [
        "from langgraph.prebuilt import create_react_agent\n",
        "\n",
        "system_message = (\n",
        "  \"You're given the API spec:\\n{api_spec}\\n\"\n",
        "  \"If possible, use this API if a user asks about foreign exchange rates. \"\n",
        ")\n",
        "\n",
        "agent = create_react_agent(llm, toolkit.get_tools(), prompt=system_message.format(api_spec=api_spec))"
      ],
      "metadata": {
        "id": "rnEVunSun1em"
      },
      "execution_count": null,
      "outputs": []
    },
    {
      "cell_type": "code",
      "source": [
        "query = \"What is the swiss franc to US dollar exchange rate?\"\n",
        "\n",
        "for event in agent.stream({\"messages\": [(\"human\", query)]}, stream_mode=\"values\"):\n",
        "    event[\"messages\"][-1].pretty_print()"
      ],
      "metadata": {
        "colab": {
          "base_uri": "https://localhost:8080/"
        },
        "id": "6jIQriaOoJrf",
        "outputId": "11159c65-77fe-4946-8827-1ba89405755a"
      },
      "execution_count": null,
      "outputs": [
        {
          "output_type": "stream",
          "name": "stdout",
          "text": [
            "================================\u001b[1m Human Message \u001b[0m=================================\n",
            "\n",
            "What is the swiss franc to US dollar exchange rate?\n",
            "==================================\u001b[1m Ai Message \u001b[0m==================================\n",
            "Tool Calls:\n",
            "  requests_get (7294e79c-7a71-4276-a7aa-636e8be4aff4)\n",
            " Call ID: 7294e79c-7a71-4276-a7aa-636e8be4aff4\n",
            "  Args:\n",
            "    url: https://api.frankfurter.dev/v1/latest?symbols=USD&base=CHF\n",
            "=================================\u001b[1m Tool Message \u001b[0m=================================\n",
            "Name: requests_get\n",
            "\n",
            "{\"amount\":1.0,\"base\":\"CHF\",\"date\":\"2025-09-04\",\"rates\":{\"USD\":1.2413}}\n",
            "==================================\u001b[1m Ai Message \u001b[0m==================================\n",
            "\n",
            "The current exchange rate is 1 CHF = 1.2413 USD.\n"
          ]
        }
      ]
    },
    {
      "cell_type": "code",
      "source": [
        "response = llm.invoke([\n",
        "    (\"system\", system_message.format(api_spec=api_spec)),\n",
        "     (\"human\", \"What is the swiss franc to US dollar exchange rate?\")], tools=toolkit.get_tools())"
      ],
      "metadata": {
        "id": "b1Wk4graoWyJ"
      },
      "execution_count": null,
      "outputs": []
    },
    {
      "cell_type": "code",
      "source": [
        "tool_calls = response.tool_calls\n",
        "print(tool_calls)"
      ],
      "metadata": {
        "colab": {
          "base_uri": "https://localhost:8080/"
        },
        "id": "HcdnCOyXrkL5",
        "outputId": "189d0715-b4c9-410d-be7b-39d762799c0b"
      },
      "execution_count": null,
      "outputs": [
        {
          "output_type": "stream",
          "name": "stdout",
          "text": [
            "[{'name': 'requests_get', 'args': {'__arg1': 'https://api.frankfurter.dev/v1/latest?symbols=USD&base=CHF'}, 'id': '3aae0067-0560-4a53-9baf-23f73621d4da', 'type': 'tool_call'}]\n"
          ]
        }
      ]
    },
    {
      "cell_type": "code",
      "source": [
        "toolkit.get_tools()[0].run(tool_calls[0][\"args\"][\"__arg1\"])"
      ],
      "metadata": {
        "colab": {
          "base_uri": "https://localhost:8080/",
          "height": 36
        },
        "id": "Ueo6PVMirnCa",
        "outputId": "9ff53f77-cd62-4592-e068-74bdab20693f"
      },
      "execution_count": null,
      "outputs": [
        {
          "output_type": "execute_result",
          "data": {
            "text/plain": [
              "'{\"amount\":1.0,\"base\":\"CHF\",\"date\":\"2025-09-04\",\"rates\":{\"USD\":1.2413}}'"
            ],
            "application/vnd.google.colaboratory.intrinsic+json": {
              "type": "string"
            }
          },
          "metadata": {},
          "execution_count": 75
        }
      ]
    },
    {
      "cell_type": "markdown",
      "source": [
        "# Defining tools with LangChain"
      ],
      "metadata": {
        "id": "2c-ys0xRGtyb"
      }
    },
    {
      "cell_type": "code",
      "source": [
        "import math\n",
        "from langchain_core.tools import tool\n",
        "import numexpr as ne\n",
        "\n",
        "@tool\n",
        "def calculator(expression: str) -> str:\n",
        "    \"\"\"Calculates a single mathematical expression, incl. complex numbers.\n",
        "\n",
        "    Always add * to operations, examples:\n",
        "      73i -> 73*i\n",
        "      7pi**2 -> 7*pi**2\n",
        "    \"\"\"\n",
        "    math_constants = {\"pi\": math.pi, \"i\": 1j, \"e\": math.exp}\n",
        "    result = ne.evaluate(expression.strip(), local_dict=math_constants)\n",
        "    return str(result)"
      ],
      "metadata": {
        "id": "qi-wbywqGrES"
      },
      "execution_count": null,
      "outputs": []
    },
    {
      "cell_type": "code",
      "source": [
        "calculator.invoke(\"2+2\")"
      ],
      "metadata": {
        "colab": {
          "base_uri": "https://localhost:8080/",
          "height": 36
        },
        "id": "5U61OrHlGqUB",
        "outputId": "f95fd9c1-cc1b-4b69-962a-7064af5d3cc7"
      },
      "execution_count": null,
      "outputs": [
        {
          "output_type": "execute_result",
          "data": {
            "text/plain": [
              "'4'"
            ],
            "application/vnd.google.colaboratory.intrinsic+json": {
              "type": "string"
            }
          },
          "metadata": {},
          "execution_count": 77
        }
      ]
    },
    {
      "cell_type": "code",
      "source": [
        "from langchain_core.tools import BaseTool\n",
        "\n",
        "assert isinstance(calculator, BaseTool)\n",
        "print(f\"Tool name: {calculator.name}\")\n",
        "print(f\"Tool name: {calculator.description}\")\n",
        "print(f\"Tool schema: {calculator.args_schema.model_json_schema()}\")"
      ],
      "metadata": {
        "colab": {
          "base_uri": "https://localhost:8080/"
        },
        "id": "SL1za8A8JVQj",
        "outputId": "9a7d13ba-f5f8-4073-d552-b487be29da76"
      },
      "execution_count": null,
      "outputs": [
        {
          "output_type": "stream",
          "name": "stdout",
          "text": [
            "Tool name: calculator\n",
            "Tool name: Calculates a single mathematical expression, incl. complex numbers.\n",
            "\n",
            "    Always add * to operations, examples:\n",
            "      73i -> 73*i\n",
            "      7pi**2 -> 7*pi**2\n",
            "Tool schema: {'description': 'Calculates a single mathematical expression, incl. complex numbers.\\n\\nAlways add * to operations, examples:\\n  73i -> 73*i\\n  7pi**2 -> 7*pi**2', 'properties': {'expression': {'title': 'Expression', 'type': 'string'}}, 'required': ['expression'], 'title': 'calculator', 'type': 'object'}\n"
          ]
        }
      ]
    },
    {
      "cell_type": "code",
      "source": [
        "print(calculator.args_schema.model_json_schema())"
      ],
      "metadata": {
        "colab": {
          "base_uri": "https://localhost:8080/"
        },
        "id": "DVjhZ_ZF2Hmp",
        "outputId": "4ac0131c-112a-42fb-b4f5-94868b6693bb"
      },
      "execution_count": null,
      "outputs": [
        {
          "output_type": "stream",
          "name": "stdout",
          "text": [
            "{'description': 'Calculates a single mathematical expression, incl. complex numbers.\\n\\nAlways add * to operations, examples:\\n  73i -> 73*i\\n  7pi**2 -> 7*pi**2', 'properties': {'expression': {'title': 'Expression', 'type': 'string'}}, 'required': ['expression'], 'title': 'calculator', 'type': 'object'}\n"
          ]
        }
      ]
    },
    {
      "cell_type": "code",
      "source": [
        "query = \"How much is 2+3i squared?\"\n",
        "\n",
        "agent = create_react_agent(llm, [calculator])\n",
        "\n",
        "for event in agent.stream({\"messages\": [(\"user\", query)]}, stream_mode=\"values\"):\n",
        "    event[\"messages\"][-1].pretty_print()"
      ],
      "metadata": {
        "colab": {
          "base_uri": "https://localhost:8080/"
        },
        "id": "4-r-MQ8vJWQD",
        "outputId": "8281346d-1ec4-49ce-8c0d-8d03ce57208d"
      },
      "execution_count": null,
      "outputs": [
        {
          "output_type": "stream",
          "name": "stdout",
          "text": [
            "================================\u001b[1m Human Message \u001b[0m=================================\n",
            "\n",
            "How much is 2+3i squared?\n",
            "==================================\u001b[1m Ai Message \u001b[0m==================================\n",
            "Tool Calls:\n",
            "  calculator (2ce06133-d609-4393-a75e-d8bcb7d7d322)\n",
            " Call ID: 2ce06133-d609-4393-a75e-d8bcb7d7d322\n",
            "  Args:\n",
            "    expression: (2+3*i)**2\n",
            "=================================\u001b[1m Tool Message \u001b[0m=================================\n",
            "Name: calculator\n",
            "\n",
            "(-5+12j)\n",
            "==================================\u001b[1m Ai Message \u001b[0m==================================\n",
            "\n",
            "(2+3i)^2 is -5+12j.\n"
          ]
        }
      ]
    },
    {
      "cell_type": "code",
      "source": [
        "question = (\n",
        "    #\"I ate 200g of chicken breast, 150g of broccoli, and 50g of brown rice for dinner. \"\n",
        "    \"I ate 200g of chicken breast for dinner. \"\n",
        "    \"How many total calories did I consume, and what percentage of my recommended daily \"\n",
        "    \"protein intake does this meal provide if my recommended intake is 75g?\"\n",
        ")\n",
        "\n",
        "system_hint = \"Think step-by-step. Always use search tool to get the fresh information about events or public facts that can change over time. Always use calculator tool for math computations.\"\n",
        "\n",
        "agent = create_react_agent(\n",
        "    llm, [calculator, search],\n",
        "    prompt=system_hint)\n",
        "\n",
        "for event in agent.stream({\"messages\": [(\"user\", question)]}, stream_mode=\"updates\"):\n",
        "    for _, event_values in event.items():\n",
        "      for message in event_values[\"messages\"]:\n",
        "        message.pretty_print()"
      ],
      "metadata": {
        "colab": {
          "base_uri": "https://localhost:8080/"
        },
        "id": "pn-Rwg_RJpph",
        "outputId": "2f4f72ab-5070-48ef-b221-b844965475e9"
      },
      "execution_count": null,
      "outputs": [
        {
          "output_type": "stream",
          "name": "stdout",
          "text": [
            "==================================\u001b[1m Ai Message \u001b[0m==================================\n",
            "Tool Calls:\n",
            "  duckduckgo_search (7fc8bed7-28b7-4926-bf60-f3432cf37eab)\n",
            " Call ID: 7fc8bed7-28b7-4926-bf60-f3432cf37eab\n",
            "  Args:\n",
            "    query: calories in 200g chicken breast\n",
            "=================================\u001b[1m Tool Message \u001b[0m=================================\n",
            "Name: duckduckgo_search\n",
            "\n",
            "200 grams of chicken breast (Broilers or fryers, meat and skin, cooked, fried, batter) contains 520 Calories . The macronutrient breakdown is 14% carbs, 47% fat, and 39% protein. This has a relatively high calorie density, with 260 Calories per 100g. The following is nutritional content of a 100g serving of chicken breast prepared using different cooking methods: A 100g serving of chicken breast is approximately 3.53 ounces. To convert between grams (g) and ounces (oz), you can use the following conversion formulae: 1 ounce (oz) = 28.34 grams (g) 1 gram (g) = 0.035 ounces (oz) See full list on irastoworldhealth.com The nutritional content of chicken wings prepared using different cooking methods, in 1 piece (about 20-35g) and 100g servings: See full list on irastoworldhealth.com The nutritional content of chicken thighs prepared using different cooking methods, in 1 piece (about 52g) and 100g servings: See full list on irastoworldhealth.com For a healthy adult, with minimal physical activity the allowance is 0.8g per kg body weight per day. To fulfill functional requirements, including the enhancement of skeletal muscle protein synthesis and the development of physical strength, the following is recommended Chicken breast is a high-quality protein source, with a favorable amino acid p... See full list on irastoworldhealth.com How many kcal is 1 chicken breast ? It depends on the weight and preparation. A 3.5 oz (100g) raw chicken breast has about 120 kcal. How many calories in 1, 200g chicken breast ? A 200g raw chicken breast has about 240 kcal (assuming it’s skinless). How many calories in 1, 200g chicken breast with skin? A 200g chicken breast with skin has approximately 348 calories . Keep in mind that this value may vary depending on the cooking method used. See full list on irastoworldhealth.com So we can estimate that 200 grams of cooked chicken breast contains 330 to 380 calories , depending on preparation method. Grilling or baking are lower calorie options compared to frying. Here is the calorie breakdown for a 200 gram serving of baked chicken breast : Chicken skin contains a lot of fat. In 200 grams of cooked chicken breast, there are approximately 330 calories . This makes it a great lean protein source for those looking to maintain a healthy diet. According to the United States Department of Agriculture (USDA), a 200g serving of cooked, skinless chicken breast contains approximately 368 calories . The caloric value of chicken breast primarily comes from its protein content, as protein contains 4 calories per gram, while carbohydrates and fats contain 4 and 9 calories per gram, respectively. Oct 10, 2024 · Chicken breast is low in fat and high in protein, a good choice if you are trying to lose weight or build muscle. A 100-gram chicken breast contains about 165 calories . So we can estimate that 200 grams of cooked chicken breast contains 330 to 380 calories , depending on preparation method. Grilling or baking are lower calorie options compared to frying. Here is the calorie breakdown for a 200 gram serving of baked chicken breast : Chicken skin contains a lot of fat. In 200 grams of cooked chicken breast, there are approximately 330 calories . This makes it a great lean protein source for those looking to maintain a healthy diet. According to the United States Department of Agriculture (USDA), a 200g serving of cooked, skinless chicken breast contains approximately 368 calories . The caloric value of chicken breast primarily comes from its protein content, as protein contains 4 calories per gram, while carbohydrates and fats contain 4 and 9 calories per gram, respectively.\n",
            "==================================\u001b[1m Ai Message \u001b[0m==================================\n",
            "\n",
            "Based on my search, 200g of cooked chicken breast contains approximately 330-380 calories. I will use 350 calories as an estimate.\n",
            "\n",
            "To calculate the protein content, I need to find the grams of protein in 200g of chicken breast.\n",
            "Tool Calls:\n",
            "  duckduckgo_search (8d81a37c-3315-4468-83f7-62e048b1c206)\n",
            " Call ID: 8d81a37c-3315-4468-83f7-62e048b1c206\n",
            "  Args:\n",
            "    query: protein in 200g chicken breast\n",
            "=================================\u001b[1m Tool Message \u001b[0m=================================\n",
            "Name: duckduckgo_search\n",
            "\n",
            "A 200 g serving of chicken breast packs a powerful nutritional punch, providing lean protein and essential nutrients without loading up on calories. Skinless chicken breast reigns as the ultimate protein source among fitness enthusiasts. A 100g portion packs around 31g of protein with minimal fat. Your body digests it efficiently, making it perfect for regular consumption. Chicken breast is primarily composed of protein , but it also contains essential vitamins and minerals.A typical serving ( 200 g ) offers around 62 grams of protein , which is roughly more than half your daily requirement based on a standard diet. High protein foods include lean chicken , lean pork, fish, lean beef, tofu, beans, lentils, low-fat yogurt, milk, cheese, seeds, nuts, and eggs. Below is a list of healthy protein -rich foods sorted by common serving size. Use the protein nutrient ranking to sort by 100 gram or 200 calorie serving... 200 grams grilled chicken calories, grilled chicken breast nutrition, calories in grilled chicken , healthy meal planning, weight loss meal ideas Last updated 2024-12-23.And this is what 200 calories of chicken breast looks like - about 90% of those calories come from protein .\n",
            "==================================\u001b[1m Ai Message \u001b[0m==================================\n",
            "\n",
            "A 200g serving of chicken breast contains approximately 330-380 calories, depending on the cooking method. It also contains about 62g of protein.\n",
            "\n",
            "To calculate the percentage of your recommended daily protein intake:\n",
            "\n",
            "(62g protein / 75g recommended intake) * 100% = 82.67%\n",
            "\n",
            "Therefore, your meal provides approximately 82.67% of your recommended daily protein intake.\n"
          ]
        }
      ]
    },
    {
      "cell_type": "code",
      "source": [
        "from langchain_core.runnables import RunnableLambda, RunnableConfig\n",
        "from langchain_core.tools import tool, convert_runnable_to_tool\n",
        "\n",
        "\n",
        "def calculator(expression: str) -> str:\n",
        "    math_constants = {\"pi\": math.pi, \"i\": 1j, \"e\": math.exp}\n",
        "    result = ne.evaluate(expression.strip(), local_dict=math_constants)\n",
        "    return str(result)\n",
        "\n",
        "calculator_with_retry = RunnableLambda(calculator).with_retry(\n",
        "    wait_exponential_jitter=True,\n",
        "    stop_after_attempt=3,\n",
        ")\n",
        "\n",
        "calculator_tool = convert_runnable_to_tool(\n",
        "    calculator_with_retry,\n",
        "    name=\"calculator\",\n",
        "    description=(\n",
        "        \"Calculates a single mathematical expression, incl. complex numbers.\"\n",
        "        \"'\\nAlways add * to operations, examples:\\n73i -> 73*i\\n\"\n",
        "        \"7pi**2 -> 7*pi**2\"\n",
        "    ),\n",
        "    arg_types={\"expression\": \"str\"},\n",
        ")"
      ],
      "metadata": {
        "id": "iF7KAc3vNUSa"
      },
      "execution_count": null,
      "outputs": []
    },
    {
      "cell_type": "code",
      "source": [
        "llm.invoke(\"How much is (2+3i)**2\", tools=[calculator_tool]).tool_calls[0]"
      ],
      "metadata": {
        "colab": {
          "base_uri": "https://localhost:8080/"
        },
        "id": "7k6xsDKrNXZz",
        "outputId": "0de8e942-1fe4-4dbd-e94e-006f10057652"
      },
      "execution_count": null,
      "outputs": [
        {
          "output_type": "execute_result",
          "data": {
            "text/plain": [
              "{'name': 'calculator',\n",
              " 'args': {'__arg1': '(2+3*i)**2'},\n",
              " 'id': '6eb16c7a-4ca1-4488-b2c3-4af43d386ddc',\n",
              " 'type': 'tool_call'}"
            ]
          },
          "metadata": {},
          "execution_count": 83
        }
      ]
    },
    {
      "cell_type": "code",
      "source": [
        "calculator_tool.invoke({\"expression\": \"(2+3*i)**2\"})"
      ],
      "metadata": {
        "colab": {
          "base_uri": "https://localhost:8080/",
          "height": 36
        },
        "id": "j4HPKpAVNa4S",
        "outputId": "ac134d97-0076-416c-cd1f-9d55c101bb33"
      },
      "execution_count": null,
      "outputs": [
        {
          "output_type": "execute_result",
          "data": {
            "text/plain": [
              "'(-5+12j)'"
            ],
            "application/vnd.google.colaboratory.intrinsic+json": {
              "type": "string"
            }
          },
          "metadata": {},
          "execution_count": 84
        }
      ]
    },
    {
      "cell_type": "code",
      "source": [
        "agent = create_react_agent(llm, [calculator_tool])\n",
        "\n",
        "for event in agent.stream({\"messages\": [(\"user\", \"How much is (2+3i)^2\")]}, stream_mode=\"updates\"):\n",
        "    for _, event_values in event.items():\n",
        "      for message in event_values[\"messages\"]:\n",
        "        message.pretty_print()"
      ],
      "metadata": {
        "colab": {
          "base_uri": "https://localhost:8080/"
        },
        "id": "GaHzFTmQNsS_",
        "outputId": "f82fa735-e367-4d90-c5c0-e9902d4c1dae"
      },
      "execution_count": null,
      "outputs": [
        {
          "output_type": "stream",
          "name": "stdout",
          "text": [
            "==================================\u001b[1m Ai Message \u001b[0m==================================\n",
            "Tool Calls:\n",
            "  calculator (71deb34a-e1b5-4a5a-8981-dd1a350a803b)\n",
            " Call ID: 71deb34a-e1b5-4a5a-8981-dd1a350a803b\n",
            "  Args:\n",
            "    __arg1: (2+3*i)**2\n",
            "=================================\u001b[1m Tool Message \u001b[0m=================================\n",
            "Name: calculator\n",
            "\n",
            "(-5+12j)\n",
            "==================================\u001b[1m Ai Message \u001b[0m==================================\n",
            "\n",
            "(2+3i)^2 is -5+12j\n"
          ]
        }
      ]
    },
    {
      "cell_type": "code",
      "source": [
        "from langchain_core.tools import StructuredTool\n",
        "\n",
        "def calculator(expression: str) -> str:\n",
        "    \"\"\"Calculates a single mathematical expression, incl. complex numbers.\"\"\"\n",
        "    return str(ne.evaluate(expression.strip(), local_dict={}))\n",
        "\n",
        "calculator_tool = StructuredTool.from_function(\n",
        "    func=calculator,\n",
        "    handle_tool_error=True\n",
        ")\n",
        "\n",
        "agent = create_react_agent(llm, [calculator_tool])\n",
        "\n",
        "for event in agent.stream({\"messages\": [(\"user\", \"How much is (2+3i)^2\")]}, stream_mode=\"values\"):\n",
        "    event[\"messages\"][-1].pretty_print()"
      ],
      "metadata": {
        "colab": {
          "base_uri": "https://localhost:8080/"
        },
        "id": "PGC66SuhNpsL",
        "outputId": "8b75e65b-ffb1-49ee-ae76-c16a38213c33"
      },
      "execution_count": null,
      "outputs": [
        {
          "output_type": "stream",
          "name": "stdout",
          "text": [
            "================================\u001b[1m Human Message \u001b[0m=================================\n",
            "\n",
            "How much is (2+3i)^2\n",
            "==================================\u001b[1m Ai Message \u001b[0m==================================\n",
            "Tool Calls:\n",
            "  calculator (bfb64e58-cc77-4814-b507-363a9460cc5e)\n",
            " Call ID: bfb64e58-cc77-4814-b507-363a9460cc5e\n",
            "  Args:\n",
            "    expression: (2+3i)^2\n",
            "=================================\u001b[1m Tool Message \u001b[0m=================================\n",
            "Name: calculator\n",
            "\n",
            "Error: SyntaxError('invalid decimal literal', ('<expr>', 1, 4, '(2+3i)^2', 1, 4))\n",
            " Please fix your mistakes.\n",
            "==================================\u001b[1m Ai Message \u001b[0m==================================\n",
            "\n",
            "I am sorry, I cannot calculate this expression because it contains a syntax error. Please provide a valid mathematical expression.\n"
          ]
        }
      ]
    },
    {
      "cell_type": "markdown",
      "source": [
        "# Controlled generation"
      ],
      "metadata": {
        "id": "rIcYnD7GWVHg"
      }
    },
    {
      "cell_type": "code",
      "source": [
        "from langchain_core.prompts import ChatPromptTemplate, PromptTemplate\n",
        "from pydantic import BaseModel, Field\n",
        "\n",
        "class Step(BaseModel):\n",
        "    \"\"\"A step that is a part of the plan to solve the task.\"\"\"\n",
        "    step: str = Field(description=\"Description of the step\")\n",
        "\n",
        "class Plan(BaseModel):\n",
        "    \"\"\"A plan to solve the task.\"\"\"\n",
        "    steps: list[Step]\n",
        "\n",
        "\n",
        "prompt = PromptTemplate.from_template(\n",
        "    \"Prepare a step-by-step plan to solve the given task.\\n\"\n",
        "    \"TASK:\\n{task}\\n\"\n",
        ")\n"
      ],
      "metadata": {
        "id": "WxRWvU6mWV_J"
      },
      "execution_count": null,
      "outputs": []
    },
    {
      "cell_type": "code",
      "source": [
        "llm1 = llm.with_structured_output(Plan)"
      ],
      "metadata": {
        "id": "73ZaKWu058Gh"
      },
      "execution_count": null,
      "outputs": []
    },
    {
      "cell_type": "code",
      "source": [
        "substituted_prompt = prompt.invoke(\"How to write a bestseller on Amazon about generative AI?\")"
      ],
      "metadata": {
        "id": "_KpPpJUS6GG8"
      },
      "execution_count": null,
      "outputs": []
    },
    {
      "cell_type": "code",
      "source": [
        "llm1.invoke(substituted_prompt)"
      ],
      "metadata": {
        "colab": {
          "base_uri": "https://localhost:8080/"
        },
        "id": "BzPWj6jC6PAe",
        "outputId": "533c3809-7d48-44ce-802d-41366f0edf8e"
      },
      "execution_count": null,
      "outputs": [
        {
          "output_type": "execute_result",
          "data": {
            "text/plain": [
              "Plan(steps=[Step(step='Step 1: Research current bestsellers in the AI and technology categories on Amazon. Analyze their writing style, target audience, and topics covered.'), Step(step=\"Step 2: Identify a unique angle or niche within generative AI that isn't already saturated in the market. Consider focusing on a specific application, ethical implications, or future trends.\"), Step(step='Step 3: Develop a detailed outline for the book, including chapter titles, subheadings, and key concepts to be covered. Ensure a logical flow and clear structure.'), Step(step='Step 4: Write the book, focusing on clear, concise language that is accessible to a broad audience. Use real-world examples, case studies, and practical applications to illustrate key concepts.'), Step(step='Step 5: Edit and proofread the book thoroughly to ensure accuracy, clarity, and grammatical correctness. Consider hiring a professional editor.'), Step(step=\"Step 6: Design an eye-catching cover that accurately reflects the book's content and appeals to the target audience. Research successful book covers in the AI and technology genres.\"), Step(step=\"Step 7: Format the book for Kindle Direct Publishing (KDP) according to Amazon's guidelines. Optimize the book's metadata, including title, subtitle, keywords, and description, to improve search visibility.\"), Step(step='Step 8: Develop a pre-launch marketing strategy to generate buzz and build anticipation for the book. This may include creating a website or blog, engaging on social media, and reaching out to influencers.'), Step(step='Step 9: Launch the book on Amazon and monitor its performance closely. Respond to reviews, engage with readers, and adjust the marketing strategy as needed.'), Step(step='Step 10: Continuously promote the book through various channels, such as Amazon Ads, social media marketing, and email marketing. Consider running promotions and offering discounts to boost sales.')])"
            ]
          },
          "metadata": {},
          "execution_count": 90
        }
      ]
    },
    {
      "cell_type": "code",
      "source": [
        "chain = prompt | llm.with_structured_output(Plan)\n",
        "result = chain.invoke(\"How to write a bestseller on Amazon about generative AI?\")\n",
        "assert isinstance(result, Plan)\n",
        "print(f\"Amount of steps: {len(result.steps)}\")\n",
        "for step in result.steps:\n",
        "  print(step.step)\n",
        "  break"
      ],
      "metadata": {
        "colab": {
          "base_uri": "https://localhost:8080/"
        },
        "id": "Cri0nf3CWoMZ",
        "outputId": "8bb801b0-c263-4a3e-9e6d-ae1a9626eb1f"
      },
      "execution_count": null,
      "outputs": [
        {
          "output_type": "stream",
          "name": "stdout",
          "text": [
            "Amount of steps: 12\n",
            "Research current bestsellers in the AI and generative AI categories on Amazon to identify popular topics, writing styles, and keywords.\n"
          ]
        }
      ]
    },
    {
      "cell_type": "code",
      "source": [
        "type(Plan)"
      ],
      "metadata": {
        "colab": {
          "base_uri": "https://localhost:8080/"
        },
        "id": "dhsJAMnZ5eX-",
        "outputId": "73add84a-acba-42fd-8aca-865b8f073975"
      },
      "execution_count": null,
      "outputs": [
        {
          "output_type": "execute_result",
          "data": {
            "text/plain": [
              "pydantic._internal._model_construction.ModelMetaclass"
            ]
          },
          "metadata": {},
          "execution_count": 92
        }
      ]
    },
    {
      "cell_type": "code",
      "source": [
        "for step in result.steps:\n",
        "  print(step.step)"
      ],
      "metadata": {
        "colab": {
          "base_uri": "https://localhost:8080/"
        },
        "id": "aKu6NeQG5bBs",
        "outputId": "0a76882f-8db8-4966-ca4e-1f9d1aeaf892"
      },
      "execution_count": null,
      "outputs": [
        {
          "output_type": "stream",
          "name": "stdout",
          "text": [
            "Research current bestsellers in the AI and generative AI categories on Amazon to identify popular topics, writing styles, and keywords.\n",
            "Define the target audience and tailor the book's content and language to their level of understanding and interests.\n",
            "Develop a unique angle or perspective on generative AI that differentiates the book from existing literature.\n",
            "Create a detailed outline of the book, covering key concepts, applications, and potential future developments in generative AI.\n",
            "Write engaging and informative content, incorporating real-world examples, case studies, and practical tips.\n",
            "Optimize the book for Amazon's search algorithm by using relevant keywords in the title, subtitle, and description.\n",
            "Design an eye-catching cover that accurately reflects the book's content and appeals to the target audience.\n",
            "Format the book for Kindle and paperback versions, ensuring readability and accessibility on various devices.\n",
            "Proofread and edit the book thoroughly to eliminate errors and improve clarity.\n",
            "Launch the book on Amazon and promote it through social media, email marketing, and other channels.\n",
            "Gather reviews and feedback from readers to improve the book's content and marketing strategy.\n",
            "Continuously update the book with new information and developments in the field of generative AI to maintain its relevance and appeal.\n"
          ]
        }
      ]
    },
    {
      "cell_type": "code",
      "source": [
        "Plan.model_json_schema()"
      ],
      "metadata": {
        "colab": {
          "base_uri": "https://localhost:8080/"
        },
        "id": "EK3McXSmWrHA",
        "outputId": "8e3a4718-81d9-4fb9-ebda-c26117b88222"
      },
      "execution_count": null,
      "outputs": [
        {
          "output_type": "execute_result",
          "data": {
            "text/plain": [
              "{'$defs': {'Step': {'description': 'A step that is a part of the plan to solve the task.',\n",
              "   'properties': {'step': {'description': 'Description of the step',\n",
              "     'title': 'Step',\n",
              "     'type': 'string'}},\n",
              "   'required': ['step'],\n",
              "   'title': 'Step',\n",
              "   'type': 'object'}},\n",
              " 'description': 'A plan to solve the task.',\n",
              " 'properties': {'steps': {'items': {'$ref': '#/$defs/Step'},\n",
              "   'title': 'Steps',\n",
              "   'type': 'array'}},\n",
              " 'required': ['steps'],\n",
              " 'title': 'Plan',\n",
              " 'type': 'object'}"
            ]
          },
          "metadata": {},
          "execution_count": 94
        }
      ]
    },
    {
      "cell_type": "code",
      "source": [
        "from google.colab import auth\n",
        "auth.authenticate_user()\n"
      ],
      "metadata": {
        "id": "TndH-iMoXjs-"
      },
      "execution_count": null,
      "outputs": []
    },
    {
      "cell_type": "code",
      "source": [
        "from langchain_google_vertexai import ChatVertexAI\n",
        "llm1 = ChatVertexAI(model_name=\"gemini-2.5-pro\", project=\"kuligin-sandbox1\")\n",
        "\n",
        "plan_schema = {\n",
        "    \"type\": \"ARRAY\",\n",
        "    \"items\": {\n",
        "        \"type\": \"OBJECT\",\n",
        "          \"properties\": {\n",
        "              \"step\": {\"type\": \"STRING\"},\n",
        "          },\n",
        "      },\n",
        "}\n",
        "\n",
        "query = \"How to write a bestseller on Amazon about generative AI?\"\n",
        "result = (prompt | llm1.with_structured_output(schema=plan_schema, method=\"json_mode\")).invoke(query)"
      ],
      "metadata": {
        "id": "4-zj59-FX_2h"
      },
      "execution_count": null,
      "outputs": []
    },
    {
      "cell_type": "code",
      "source": [
        "assert(isinstance(result, list))\n",
        "print(f\"Amount of steps: {len(result)}\")\n",
        "print(result[0])"
      ],
      "metadata": {
        "colab": {
          "base_uri": "https://localhost:8080/"
        },
        "id": "mrVI4p00YLFq",
        "outputId": "6a728fc9-51f3-4046-81a9-0e26f58aa47a"
      },
      "execution_count": null,
      "outputs": [
        {
          "output_type": "stream",
          "name": "stdout",
          "text": [
            "Amount of steps: 8\n",
            "{'step': \"Phase 1: Research and Niche Identification. Analyze current Amazon bestsellers in the 'AI' and 'Technology' categories. Identify gaps in the market, popular sub-topics (e.g., AI for business, ethics, prompt engineering), and define a specific target audience (e.g., marketers, developers, entrepreneurs).\"}\n"
          ]
        }
      ]
    },
    {
      "cell_type": "code",
      "source": [
        "from langchain_core.output_parsers import JsonOutputParser\n",
        "llm_json = ChatVertexAI(project=\"kuligin-sandbox1\", model_name=\"gemini-2.5-pro\",\n",
        "                        response_mime_type=\"application/json\",\n",
        "                        response_schema=plan_schema)\n",
        "result = (prompt | llm_json | JsonOutputParser()).invoke(query)\n",
        "assert(isinstance(result, list))\n",
        "print(f\"Amount of steps: {len(result)}\")\n",
        "print(result[0])"
      ],
      "metadata": {
        "colab": {
          "base_uri": "https://localhost:8080/"
        },
        "id": "tbN3DZRjX82A",
        "outputId": "6c20918b-3d8e-4e3f-b5f7-3603790387cb"
      },
      "execution_count": null,
      "outputs": [
        {
          "output_type": "stream",
          "name": "stdout",
          "text": [
            "Amount of steps: 9\n",
            "{'step': 'Phase 1: Research and Niche Identification. Analyze existing generative AI books on Amazon to find a unique angle. Identify your target audience (e.g., beginners, business leaders, artists) and what specific problem your book will solve for them.'}\n"
          ]
        }
      ]
    },
    {
      "cell_type": "code",
      "source": [
        "from langchain_core.output_parsers import StrOutputParser\n",
        "response_schema = {\"type\": \"STRING\", \"enum\": [\"positive\", \"negative\", \"neutral\"]}\n",
        "\n",
        "prompt = PromptTemplate.from_template(\n",
        "    \"Classify the tone of the following customer's review:\"\n",
        "    \"\\n{review}\\n\"\n",
        ")\n",
        "\n",
        "review = \"I like this movie!\"\n",
        "llm_enum = ChatVertexAI(project=\"kuligin-sandbox1\", model_name=\"gemini-1.5-pro-002\",\n",
        "                        response_mime_type=\"text/x.enum\",\n",
        "                        response_schema=response_schema)\n",
        "result = (prompt | llm_enum | StrOutputParser()).invoke(review)\n",
        "print(result)"
      ],
      "metadata": {
        "colab": {
          "base_uri": "https://localhost:8080/"
        },
        "id": "184WuJ7uXxjn",
        "outputId": "338af12d-1d18-4588-c8eb-079f876d8a51"
      },
      "execution_count": null,
      "outputs": [
        {
          "output_type": "stream",
          "name": "stdout",
          "text": [
            "positive\n"
          ]
        }
      ]
    },
    {
      "cell_type": "code",
      "source": [
        "plan_schema = {\n",
        "    \"type\": \"ARRAY\",\n",
        "    \"items\": {\n",
        "        \"type\": \"OBJECT\",\n",
        "          \"properties\": {\n",
        "              \"step\": {\"type\": \"STRING\"},\n",
        "          },\n",
        "      },\n",
        "}\n",
        "\n",
        "query = \"How to write a bestseller on Amazon about generative AI?\"\n",
        "result = (prompt | llm.with_structured_output(schema=plan_schema, method=\"json_mode\")).invoke(query)"
      ],
      "metadata": {
        "id": "sRu-hfd-WzQI"
      },
      "execution_count": null,
      "outputs": []
    },
    {
      "cell_type": "code",
      "source": [
        "assert(isinstance(result, list))\n",
        "print(f\"Amount of steps: {len(result)}\")\n",
        "print(result[0])"
      ],
      "metadata": {
        "id": "6OXoubH0W1bM",
        "colab": {
          "base_uri": "https://localhost:8080/"
        },
        "outputId": "7d9944a0-8635-441c-d3f4-f95d61c59885"
      },
      "execution_count": null,
      "outputs": [
        {
          "output_type": "stream",
          "name": "stdout",
          "text": [
            "Amount of steps: 1\n",
            "{'step': 'Inquisitive'}\n"
          ]
        }
      ]
    },
    {
      "cell_type": "code",
      "source": [
        "from langchain_core.output_parsers import JsonOutputParser\n",
        "llm_json = ChatVertexAI(model_name=\"gemini-2.5-pro\", project=\"kuligin-sandbox1\", response_mime_type=\"application/json\", response_schema=plan_schema)\n",
        "result = (prompt | llm_json | JsonOutputParser()).invoke(query)\n",
        "assert(isinstance(result, list))\n",
        "print(f\"Amount of steps: {len(result)}\")\n",
        "print(result[0])"
      ],
      "metadata": {
        "id": "PUb6rsG5XY2q",
        "colab": {
          "base_uri": "https://localhost:8080/"
        },
        "outputId": "3d9114b5-195c-4b07-8abb-a772129fc0d8"
      },
      "execution_count": null,
      "outputs": [
        {
          "output_type": "stream",
          "name": "stdout",
          "text": [
            "Amount of steps: 1\n",
            "{'step': \"The customer's tone is inquisitive and neutral, not a review of a product or service. They are asking a question seeking information or guidance.\"}\n"
          ]
        }
      ]
    },
    {
      "cell_type": "code",
      "source": [],
      "metadata": {
        "id": "_CKcJiGdXbfG"
      },
      "execution_count": null,
      "outputs": []
    },
    {
      "cell_type": "markdown",
      "source": [
        "# Plan-and-solve agent"
      ],
      "metadata": {
        "id": "JaiB_FomQ_RN"
      }
    },
    {
      "cell_type": "code",
      "source": [
        "from pydantic import BaseModel, Field\n",
        "from langchain_core.prompts import ChatPromptTemplate\n",
        "from langchain_google_genai import ChatGoogleGenerativeAI\n",
        "\n",
        "class Plan(BaseModel):\n",
        "    \"\"\"Plan to follow in future\"\"\"\n",
        "\n",
        "    steps: list[str] = Field(\n",
        "        description=\"different steps to follow, should be in sorted order\"\n",
        "    )\n",
        "\n",
        "system_prompt_template = (\n",
        "    \"For the given task, come up with a step by step plan.\\n\"\n",
        "    \"This plan should involve individual tasks, that if executed correctly will \"\n",
        "    \"yield the correct answer. Do not add any superfluous steps.\\n\"\n",
        "    \"The result of the final step should be the final answer. Make sure that each \"\n",
        "    \"step has all the information needed - do not skip steps.\"\n",
        ")\n",
        "planner_prompt = ChatPromptTemplate.from_messages(\n",
        "    [(\"system\", system_prompt_template),\n",
        "     (\"user\", \"Prepare a plan how to solve the following task:\\n{task}\\n\")])\n",
        "\n",
        "planner = planner_prompt | ChatGoogleGenerativeAI(\n",
        "    model=\"gemini-2.5-flash\", temperature=1.0, google_api_key=google_api_key\n",
        ").with_structured_output(Plan)"
      ],
      "metadata": {
        "id": "JqH_u8NHRBt1"
      },
      "execution_count": null,
      "outputs": []
    },
    {
      "cell_type": "code",
      "source": [
        "task = \"Write a strategic one-pager of building an AI startup?\"\n",
        "plan = planner.invoke(task)"
      ],
      "metadata": {
        "id": "L0Dh4s8SRNTH"
      },
      "execution_count": null,
      "outputs": []
    },
    {
      "cell_type": "code",
      "source": [
        "plan"
      ],
      "metadata": {
        "colab": {
          "base_uri": "https://localhost:8080/"
        },
        "id": "IP0yIVK7bJs6",
        "outputId": "166eee29-e902-42cf-afd8-e9c902a9389c"
      },
      "execution_count": null,
      "outputs": [
        {
          "output_type": "execute_result",
          "data": {
            "text/plain": [
              "Plan(steps=[\"Define the AI startup's vision and mission, clearly articulating its core purpose and long-term goal, specifically what problem it aims to solve with AI.\", 'Identify the specific, significant problem the AI startup will address, providing context on its impact and why existing solutions are inadequate.', 'Outline the AI-powered solution, describing the core AI technology or approach that will solve the identified problem, highlighting its innovative aspects and how it works at a high level.', 'Define the target market, identifying the ideal customer segment for the AI solution and estimating the market size or potential.', 'Articulate the competitive advantage, explaining what makes the AI startup unique and defensible, such as proprietary data, unique algorithms, specialized team expertise, or a novel application of AI.', 'Develop the business model, describing how the AI startup will generate revenue (e.g., SaaS, licensing, subscription, service fees).', 'Summarize the go-to-market strategy, briefly explaining how the AI product will reach its target customers (e.g., direct sales, partnerships, digital marketing).', \"Highlight key team expertise, briefly mentioning the core team's relevant experience, particularly in AI, machine learning, or the specific industry domain.\", 'Condense and refine all developed content to be concise, impactful, and fit onto a single page, ensuring a clear and logical flow for the one-pager format.', \"Review and finalize the one-pager for clarity, grammar, strategic alignment, and overall effectiveness in communicating the AI startup's vision and plan.\"])"
            ]
          },
          "metadata": {},
          "execution_count": 106
        }
      ]
    },
    {
      "cell_type": "code",
      "source": [
        "from langchain.agents import load_tools\n",
        "\n",
        "llm = ChatGoogleGenerativeAI(model=\"gemini-2.5-flash\", google_api_key=google_api_key)\n",
        "tools = load_tools(\n",
        "  tool_names=[\"ddg-search\", \"arxiv\", \"wikipedia\"],\n",
        "  llm=llm\n",
        ")"
      ],
      "metadata": {
        "id": "baMKWyBbRWaf"
      },
      "execution_count": null,
      "outputs": []
    },
    {
      "cell_type": "code",
      "source": [
        "from langgraph.prebuilt import create_react_agent\n",
        "from langgraph.prebuilt.chat_agent_executor import AgentState\n",
        "from typing_extensions import TypedDict\n",
        "from langgraph.managed import IsLastStep\n",
        "from langgraph.graph.message import add_messages\n",
        "from langchain_core.messages import BaseMessage\n",
        "\n",
        "class StepState(AgentState):\n",
        "  plan: str\n",
        "  step: str\n",
        "  task: str\n",
        "\n",
        "system_prompt = (\n",
        "    \"You're a smart assistant that carefully helps to solve complex tasks.\\n\"\n",
        "    \" Given a general plan to solve a task and a specific step, work on this step. \"\n",
        "    \" Don't assume anything, keep in minds things might change and always try to \"\n",
        "    \"use tools to double-check yourself.\\m\"\n",
        "    \" Use a calculator for mathematical computations, use Search to gather\"\n",
        "    \"for information about common facts, fresh events and news, use Arxiv to get \"\n",
        "    \"ideas on recent research and use Wikipedia for common knowledge.\"\n",
        ")\n",
        "\n",
        "step_template = (\n",
        "    \"Given the task and the plan, try to execute on a specific step of the plan.\\n\"\n",
        "    \"TASK:\\n{task}\\n\\nPLAN:\\n{plan}\\n\\nSTEP TO EXECUTE:\\n{step}\\n\"\n",
        ")\n",
        "\n",
        "prompt_template = ChatPromptTemplate.from_messages([\n",
        "    (\"system\", system_prompt),\n",
        "    (\"user\", step_template),\n",
        "])\n",
        "\n",
        "execution_agent = create_react_agent(model=llm, tools=tools+[calculator_tool], state_schema=StepState, prompt=prompt_template)"
      ],
      "metadata": {
        "id": "TA1NJIb2RR4o",
        "colab": {
          "base_uri": "https://localhost:8080/"
        },
        "outputId": "11c12897-949c-421e-ddd5-4b51fd9ed05d"
      },
      "execution_count": null,
      "outputs": [
        {
          "output_type": "stream",
          "name": "stderr",
          "text": [
            "<>:17: SyntaxWarning: invalid escape sequence '\\m'\n",
            "<>:17: SyntaxWarning: invalid escape sequence '\\m'\n",
            "/tmp/ipython-input-678506150.py:17: SyntaxWarning: invalid escape sequence '\\m'\n",
            "  \"use tools to double-check yourself.\\m\"\n"
          ]
        }
      ]
    },
    {
      "cell_type": "code",
      "source": [
        "class PlanState(TypedDict):\n",
        "    task: str\n",
        "    plan: Plan\n",
        "    past_steps: Annotated[list[str], add]\n",
        "    final_response: str\n",
        "\n",
        "\n",
        "def get_current_step(state: PlanState) -> int:\n",
        "  \"\"\"Returns the number of current step to be executed.\"\"\"\n",
        "  return len(state.get(\"past_steps\", []))\n",
        "\n",
        "def get_full_plan(state: PlanState) -> str:\n",
        "  \"\"\"Returns formatted plan with step numbers and past results.\"\"\"\n",
        "  full_plan = []\n",
        "  for i, step in enumerate(state[\"plan\"].steps):\n",
        "    full_step = f\"# {i+1}. Planned step: {step}\\n\"\n",
        "    if i < get_current_step(state):\n",
        "      full_step += f\"Result: {state['past_steps'][i]}\\n\"\n",
        "    full_plan.append(full_step)\n",
        "  return \"\\n\".join(full_plan)"
      ],
      "metadata": {
        "id": "gLJE-s-FSJ32"
      },
      "execution_count": null,
      "outputs": []
    },
    {
      "cell_type": "code",
      "source": [
        "final_prompt = PromptTemplate.from_template(\n",
        "    \"You're a helpful assistant that has executed on a plan.\"\n",
        "    \"Given the results of the execution, prepare the final response.\\n\"\n",
        "    \"Don't assume anything\\nTASK:\\n{task}\\n\\nPLAN WITH RESUlTS:\\n{plan}\\n\"\n",
        "    \"FINAL RESPONSE:\\n\"\n",
        ")\n",
        "\n",
        "async def _build_initial_plan(state: PlanState) -> PlanState:\n",
        "  plan = await planner.ainvoke(state[\"task\"])\n",
        "  return {\"plan\": plan}\n",
        "\n",
        "async def _run_step(state: PlanState) -> PlanState:\n",
        "  plan = state[\"plan\"]\n",
        "  current_step = get_current_step(state)\n",
        "  step = await execution_agent.ainvoke({\"plan\": get_full_plan(state), \"step\": plan.steps[current_step], \"task\": state[\"task\"]})\n",
        "  return {\"past_steps\": [step[\"messages\"][-1].content]}\n",
        "\n",
        "async def _get_final_response(state: PlanState) -> PlanState:\n",
        "  final_response = await (final_prompt | llm).ainvoke({\"task\": state[\"task\"], \"plan\": get_full_plan(state)})\n",
        "  return {\"final_response\": final_response}\n",
        "\n",
        "\n",
        "def _should_continue(state: PlanState) -> Literal[\"run\", \"response\"]:\n",
        "  if get_current_step(state) < len(state[\"plan\"].steps):\n",
        "    return \"run\"\n",
        "  return \"response\"\n",
        "\n",
        "builder = StateGraph(PlanState)\n",
        "builder.add_node(\"initial_plan\", _build_initial_plan)\n",
        "builder.add_node(\"run\", _run_step)\n",
        "builder.add_node(\"response\", _get_final_response)\n",
        "\n",
        "builder.add_edge(START, \"initial_plan\")\n",
        "builder.add_edge(\"initial_plan\", \"run\")\n",
        "builder.add_conditional_edges(\"run\", _should_continue)\n",
        "builder.add_edge(\"response\", END)\n",
        "\n",
        "graph = builder.compile()\n",
        "\n",
        "from IPython.display import Image, display\n",
        "display(Image(graph.get_graph().draw_mermaid_png()))"
      ],
      "metadata": {
        "colab": {
          "base_uri": "https://localhost:8080/",
          "height": 449
        },
        "id": "AZy2UXVXSOsv",
        "outputId": "7eecbfcd-d5ed-4945-fc85-9f7a489f5e89"
      },
      "execution_count": null,
      "outputs": [
        {
          "output_type": "display_data",
          "data": {
            "image/png": "[encoded data removed]",
            "text/plain": [
              "<IPython.core.display.Image object>"
            ]
          },
          "metadata": {}
        }
      ]
    },
    {
      "cell_type": "code",
      "source": [
        "from IPython.display import Image, display\n",
        "display(Image(execution_agent.get_graph().draw_mermaid_png()))"
      ],
      "metadata": {
        "colab": {
          "base_uri": "https://localhost:8080/",
          "height": 266
        },
        "id": "kG28IHL4D_P0",
        "outputId": "c842f46c-17e5-4189-f66f-20ecc250ea22"
      },
      "execution_count": null,
      "outputs": [
        {
          "output_type": "display_data",
          "data": {
            "image/png": "[encoded data removed]",
            "text/plain": [
              "<IPython.core.display.Image object>"
            ]
          },
          "metadata": {}
        }
      ]
    },
    {
      "cell_type": "code",
      "source": [
        "task = \"Write a strategic one-pager of building an AI startup\"\n",
        "result = await graph.ainvoke({\"task\": task})"
      ],
      "metadata": {
        "id": "Z5P4NhzcSU9S",
        "colab": {
          "base_uri": "https://localhost:8080/"
        },
        "outputId": "359f402f-31f1-407f-a4f6-7a96c3da3f5e"
      },
      "execution_count": null,
      "outputs": [
        {
          "output_type": "error",
          "ename": "GraphRecursionError",
          "evalue": "Recursion limit of 25 reached without hitting a stop condition. You can increase the limit by setting the `recursion_limit` config key.\nFor troubleshooting, visit: https://python.langchain.com/docs/troubleshooting/errors/GRAPH_RECURSION_LIMIT",
          "traceback": [
            "\u001b[0;31m---------------------------------------------------------------------------\u001b[0m",
            "\u001b[0;31mGraphRecursionError\u001b[0m                       Traceback (most recent call last)",
            "\u001b[0;32m/tmp/ipython-input-3909633886.py\u001b[0m in \u001b[0;36m<cell line: 1>\u001b[0;34m()\u001b[0m\n\u001b[1;32m      1\u001b[0m \u001b[0mtask\u001b[0m \u001b[0;34m=\u001b[0m \u001b[0;34m\"Write a strategic one-pager of building an AI startup\"\u001b[0m\u001b[0;34m\u001b[0m\u001b[0;34m\u001b[0m\u001b[0m\n\u001b[0;32m----> 2\u001b[0;31m \u001b[0mresult\u001b[0m \u001b[0;34m=\u001b[0m \u001b[0;32mawait\u001b[0m \u001b[0mgraph\u001b[0m\u001b[0;34m.\u001b[0m\u001b[0mainvoke\u001b[0m\u001b[0;34m(\u001b[0m\u001b[0;34m{\u001b[0m\u001b[0;34m\"task\"\u001b[0m\u001b[0;34m:\u001b[0m \u001b[0mtask\u001b[0m\u001b[0;34m}\u001b[0m\u001b[0;34m)\u001b[0m\u001b[0;34m\u001b[0m\u001b[0;34m\u001b[0m\u001b[0m\n\u001b[0m",
            "\u001b[0;32m/usr/local/lib/python3.12/dist-packages/langgraph/pregel/main.py\u001b[0m in \u001b[0;36mainvoke\u001b[0;34m(self, input, config, context, stream_mode, print_mode, output_keys, interrupt_before, interrupt_after, durability, **kwargs)\u001b[0m\n\u001b[1;32m   3110\u001b[0m         \u001b[0minterrupts\u001b[0m\u001b[0;34m:\u001b[0m \u001b[0mlist\u001b[0m\u001b[0;34m[\u001b[0m\u001b[0mInterrupt\u001b[0m\u001b[0;34m]\u001b[0m \u001b[0;34m=\u001b[0m \u001b[0;34m[\u001b[0m\u001b[0;34m]\u001b[0m\u001b[0;34m\u001b[0m\u001b[0;34m\u001b[0m\u001b[0m\n\u001b[1;32m   3111\u001b[0m \u001b[0;34m\u001b[0m\u001b[0m\n\u001b[0;32m-> 3112\u001b[0;31m         async for chunk in self.astream(\n\u001b[0m\u001b[1;32m   3113\u001b[0m             \u001b[0minput\u001b[0m\u001b[0;34m,\u001b[0m\u001b[0;34m\u001b[0m\u001b[0;34m\u001b[0m\u001b[0m\n\u001b[1;32m   3114\u001b[0m             \u001b[0mconfig\u001b[0m\u001b[0;34m,\u001b[0m\u001b[0;34m\u001b[0m\u001b[0;34m\u001b[0m\u001b[0m\n",
            "\u001b[0;32m/usr/local/lib/python3.12/dist-packages/langgraph/pregel/main.py\u001b[0m in \u001b[0;36mastream\u001b[0;34m(self, input, config, context, stream_mode, print_mode, output_keys, interrupt_before, interrupt_after, durability, subgraphs, debug, **kwargs)\u001b[0m\n\u001b[1;32m   2937\u001b[0m                     \u001b[0;32mfor\u001b[0m \u001b[0mtask\u001b[0m \u001b[0;32min\u001b[0m \u001b[0;32mawait\u001b[0m \u001b[0mloop\u001b[0m\u001b[0;34m.\u001b[0m\u001b[0mamatch_cached_writes\u001b[0m\u001b[0;34m(\u001b[0m\u001b[0;34m)\u001b[0m\u001b[0;34m:\u001b[0m\u001b[0;34m\u001b[0m\u001b[0;34m\u001b[0m\u001b[0m\n\u001b[1;32m   2938\u001b[0m                         \u001b[0mloop\u001b[0m\u001b[0;34m.\u001b[0m\u001b[0moutput_writes\u001b[0m\u001b[0;34m(\u001b[0m\u001b[0mtask\u001b[0m\u001b[0;34m.\u001b[0m\u001b[0mid\u001b[0m\u001b[0;34m,\u001b[0m \u001b[0mtask\u001b[0m\u001b[0;34m.\u001b[0m\u001b[0mwrites\u001b[0m\u001b[0;34m,\u001b[0m \u001b[0mcached\u001b[0m\u001b[0;34m=\u001b[0m\u001b[0;32mTrue\u001b[0m\u001b[0;34m)\u001b[0m\u001b[0;34m\u001b[0m\u001b[0;34m\u001b[0m\u001b[0m\n\u001b[0;32m-> 2939\u001b[0;31m                     async for _ in runner.atick(\n\u001b[0m\u001b[1;32m   2940\u001b[0m                         \u001b[0;34m[\u001b[0m\u001b[0mt\u001b[0m \u001b[0;32mfor\u001b[0m \u001b[0mt\u001b[0m \u001b[0;32min\u001b[0m \u001b[0mloop\u001b[0m\u001b[0;34m.\u001b[0m\u001b[0mtasks\u001b[0m\u001b[0;34m.\u001b[0m\u001b[0mvalues\u001b[0m\u001b[0;34m(\u001b[0m\u001b[0;34m)\u001b[0m \u001b[0;32mif\u001b[0m \u001b[0;32mnot\u001b[0m \u001b[0mt\u001b[0m\u001b[0;34m.\u001b[0m\u001b[0mwrites\u001b[0m\u001b[0;34m]\u001b[0m\u001b[0;34m,\u001b[0m\u001b[0;34m\u001b[0m\u001b[0;34m\u001b[0m\u001b[0m\n\u001b[1;32m   2941\u001b[0m                         \u001b[0mtimeout\u001b[0m\u001b[0;34m=\u001b[0m\u001b[0mself\u001b[0m\u001b[0;34m.\u001b[0m\u001b[0mstep_timeout\u001b[0m\u001b[0;34m,\u001b[0m\u001b[0;34m\u001b[0m\u001b[0;34m\u001b[0m\u001b[0m\n",
            "\u001b[0;32m/usr/local/lib/python3.12/dist-packages/langgraph/pregel/_runner.py\u001b[0m in \u001b[0;36matick\u001b[0;34m(self, tasks, reraise, timeout, retry_policy, get_waiter, schedule_task)\u001b[0m\n\u001b[1;32m    293\u001b[0m             \u001b[0mt\u001b[0m \u001b[0;34m=\u001b[0m \u001b[0mtasks\u001b[0m\u001b[0;34m[\u001b[0m\u001b[0;36m0\u001b[0m\u001b[0;34m]\u001b[0m\u001b[0;34m\u001b[0m\u001b[0;34m\u001b[0m\u001b[0m\n\u001b[1;32m    294\u001b[0m             \u001b[0;32mtry\u001b[0m\u001b[0;34m:\u001b[0m\u001b[0;34m\u001b[0m\u001b[0;34m\u001b[0m\u001b[0m\n\u001b[0;32m--> 295\u001b[0;31m                 await arun_with_retry(\n\u001b[0m\u001b[1;32m    296\u001b[0m                     \u001b[0mt\u001b[0m\u001b[0;34m,\u001b[0m\u001b[0;34m\u001b[0m\u001b[0;34m\u001b[0m\u001b[0m\n\u001b[1;32m    297\u001b[0m                     \u001b[0mretry_policy\u001b[0m\u001b[0;34m,\u001b[0m\u001b[0;34m\u001b[0m\u001b[0;34m\u001b[0m\u001b[0m\n",
            "\u001b[0;32m/usr/local/lib/python3.12/dist-packages/langgraph/pregel/_retry.py\u001b[0m in \u001b[0;36marun_with_retry\u001b[0;34m(task, retry_policy, stream, match_cached_writes, configurable)\u001b[0m\n\u001b[1;32m    135\u001b[0m                 \u001b[0;32mbreak\u001b[0m\u001b[0;34m\u001b[0m\u001b[0;34m\u001b[0m\u001b[0m\n\u001b[1;32m    136\u001b[0m             \u001b[0;32melse\u001b[0m\u001b[0;34m:\u001b[0m\u001b[0;34m\u001b[0m\u001b[0;34m\u001b[0m\u001b[0m\n\u001b[0;32m--> 137\u001b[0;31m                 \u001b[0;32mreturn\u001b[0m \u001b[0;32mawait\u001b[0m \u001b[0mtask\u001b[0m\u001b[0;34m.\u001b[0m\u001b[0mproc\u001b[0m\u001b[0;34m.\u001b[0m\u001b[0mainvoke\u001b[0m\u001b[0;34m(\u001b[0m\u001b[0mtask\u001b[0m\u001b[0;34m.\u001b[0m\u001b[0minput\u001b[0m\u001b[0;34m,\u001b[0m \u001b[0mconfig\u001b[0m\u001b[0;34m)\u001b[0m\u001b[0;34m\u001b[0m\u001b[0;34m\u001b[0m\u001b[0m\n\u001b[0m\u001b[1;32m    138\u001b[0m         \u001b[0;32mexcept\u001b[0m \u001b[0mParentCommand\u001b[0m \u001b[0;32mas\u001b[0m \u001b[0mexc\u001b[0m\u001b[0;34m:\u001b[0m\u001b[0;34m\u001b[0m\u001b[0;34m\u001b[0m\u001b[0m\n\u001b[1;32m    139\u001b[0m             \u001b[0mns\u001b[0m\u001b[0;34m:\u001b[0m \u001b[0mstr\u001b[0m \u001b[0;34m=\u001b[0m \u001b[0mconfig\u001b[0m\u001b[0;34m[\u001b[0m\u001b[0mCONF\u001b[0m\u001b[0;34m]\u001b[0m\u001b[0;34m[\u001b[0m\u001b[0mCONFIG_KEY_CHECKPOINT_NS\u001b[0m\u001b[0;34m]\u001b[0m\u001b[0;34m\u001b[0m\u001b[0;34m\u001b[0m\u001b[0m\n",
            "\u001b[0;32m/usr/local/lib/python3.12/dist-packages/langgraph/_internal/_runnable.py\u001b[0m in \u001b[0;36mainvoke\u001b[0;34m(self, input, config, **kwargs)\u001b[0m\n\u001b[1;32m    704\u001b[0m                         \u001b[0;31m# run in context\u001b[0m\u001b[0;34m\u001b[0m\u001b[0;34m\u001b[0m\u001b[0m\n\u001b[1;32m    705\u001b[0m                         \u001b[0;32mwith\u001b[0m \u001b[0mset_config_context\u001b[0m\u001b[0;34m(\u001b[0m\u001b[0mconfig\u001b[0m\u001b[0;34m,\u001b[0m \u001b[0mrun\u001b[0m\u001b[0;34m)\u001b[0m \u001b[0;32mas\u001b[0m \u001b[0mcontext\u001b[0m\u001b[0;34m:\u001b[0m\u001b[0;34m\u001b[0m\u001b[0;34m\u001b[0m\u001b[0m\n\u001b[0;32m--> 706\u001b[0;31m                             input = await asyncio.create_task(\n\u001b[0m\u001b[1;32m    707\u001b[0m                                 \u001b[0mstep\u001b[0m\u001b[0;34m.\u001b[0m\u001b[0mainvoke\u001b[0m\u001b[0;34m(\u001b[0m\u001b[0minput\u001b[0m\u001b[0;34m,\u001b[0m \u001b[0mconfig\u001b[0m\u001b[0;34m,\u001b[0m \u001b[0;34m**\u001b[0m\u001b[0mkwargs\u001b[0m\u001b[0;34m)\u001b[0m\u001b[0;34m,\u001b[0m \u001b[0mcontext\u001b[0m\u001b[0;34m=\u001b[0m\u001b[0mcontext\u001b[0m\u001b[0;34m\u001b[0m\u001b[0;34m\u001b[0m\u001b[0m\n\u001b[1;32m    708\u001b[0m                             )\n",
            "\u001b[0;32m/usr/local/lib/python3.12/dist-packages/langgraph/_internal/_runnable.py\u001b[0m in \u001b[0;36mainvoke\u001b[0;34m(self, input, config, **kwargs)\u001b[0m\n\u001b[1;32m    472\u001b[0m                 \u001b[0;32mawait\u001b[0m \u001b[0mrun_manager\u001b[0m\u001b[0;34m.\u001b[0m\u001b[0mon_chain_end\u001b[0m\u001b[0;34m(\u001b[0m\u001b[0mret\u001b[0m\u001b[0;34m)\u001b[0m\u001b[0;34m\u001b[0m\u001b[0;34m\u001b[0m\u001b[0m\n\u001b[1;32m    473\u001b[0m         \u001b[0;32melse\u001b[0m\u001b[0;34m:\u001b[0m\u001b[0;34m\u001b[0m\u001b[0;34m\u001b[0m\u001b[0m\n\u001b[0;32m--> 474\u001b[0;31m             \u001b[0mret\u001b[0m \u001b[0;34m=\u001b[0m \u001b[0;32mawait\u001b[0m \u001b[0mself\u001b[0m\u001b[0;34m.\u001b[0m\u001b[0mafunc\u001b[0m\u001b[0;34m(\u001b[0m\u001b[0;34m*\u001b[0m\u001b[0margs\u001b[0m\u001b[0;34m,\u001b[0m \u001b[0;34m**\u001b[0m\u001b[0mkwargs\u001b[0m\u001b[0;34m)\u001b[0m\u001b[0;34m\u001b[0m\u001b[0;34m\u001b[0m\u001b[0m\n\u001b[0m\u001b[1;32m    475\u001b[0m         \u001b[0;32mif\u001b[0m \u001b[0mself\u001b[0m\u001b[0;34m.\u001b[0m\u001b[0mrecurse\u001b[0m \u001b[0;32mand\u001b[0m \u001b[0misinstance\u001b[0m\u001b[0;34m(\u001b[0m\u001b[0mret\u001b[0m\u001b[0;34m,\u001b[0m \u001b[0mRunnable\u001b[0m\u001b[0;34m)\u001b[0m\u001b[0;34m:\u001b[0m\u001b[0;34m\u001b[0m\u001b[0;34m\u001b[0m\u001b[0m\n\u001b[1;32m    476\u001b[0m             \u001b[0;32mreturn\u001b[0m \u001b[0;32mawait\u001b[0m \u001b[0mret\u001b[0m\u001b[0;34m.\u001b[0m\u001b[0mainvoke\u001b[0m\u001b[0;34m(\u001b[0m\u001b[0minput\u001b[0m\u001b[0;34m,\u001b[0m \u001b[0mconfig\u001b[0m\u001b[0;34m)\u001b[0m\u001b[0;34m\u001b[0m\u001b[0;34m\u001b[0m\u001b[0m\n",
            "\u001b[0;32m/tmp/ipython-input-360420128.py\u001b[0m in \u001b[0;36m_run_step\u001b[0;34m(state)\u001b[0m\n\u001b[1;32m     13\u001b[0m   \u001b[0mplan\u001b[0m \u001b[0;34m=\u001b[0m \u001b[0mstate\u001b[0m\u001b[0;34m[\u001b[0m\u001b[0;34m\"plan\"\u001b[0m\u001b[0;34m]\u001b[0m\u001b[0;34m\u001b[0m\u001b[0;34m\u001b[0m\u001b[0m\n\u001b[1;32m     14\u001b[0m   \u001b[0mcurrent_step\u001b[0m \u001b[0;34m=\u001b[0m \u001b[0mget_current_step\u001b[0m\u001b[0;34m(\u001b[0m\u001b[0mstate\u001b[0m\u001b[0;34m)\u001b[0m\u001b[0;34m\u001b[0m\u001b[0;34m\u001b[0m\u001b[0m\n\u001b[0;32m---> 15\u001b[0;31m   \u001b[0mstep\u001b[0m \u001b[0;34m=\u001b[0m \u001b[0;32mawait\u001b[0m \u001b[0mexecution_agent\u001b[0m\u001b[0;34m.\u001b[0m\u001b[0mainvoke\u001b[0m\u001b[0;34m(\u001b[0m\u001b[0;34m{\u001b[0m\u001b[0;34m\"plan\"\u001b[0m\u001b[0;34m:\u001b[0m \u001b[0mget_full_plan\u001b[0m\u001b[0;34m(\u001b[0m\u001b[0mstate\u001b[0m\u001b[0;34m)\u001b[0m\u001b[0;34m,\u001b[0m \u001b[0;34m\"step\"\u001b[0m\u001b[0;34m:\u001b[0m \u001b[0mplan\u001b[0m\u001b[0;34m.\u001b[0m\u001b[0msteps\u001b[0m\u001b[0;34m[\u001b[0m\u001b[0mcurrent_step\u001b[0m\u001b[0;34m]\u001b[0m\u001b[0;34m,\u001b[0m \u001b[0;34m\"task\"\u001b[0m\u001b[0;34m:\u001b[0m \u001b[0mstate\u001b[0m\u001b[0;34m[\u001b[0m\u001b[0;34m\"task\"\u001b[0m\u001b[0;34m]\u001b[0m\u001b[0;34m}\u001b[0m\u001b[0;34m)\u001b[0m\u001b[0;34m\u001b[0m\u001b[0;34m\u001b[0m\u001b[0m\n\u001b[0m\u001b[1;32m     16\u001b[0m   \u001b[0;32mreturn\u001b[0m \u001b[0;34m{\u001b[0m\u001b[0;34m\"past_steps\"\u001b[0m\u001b[0;34m:\u001b[0m \u001b[0;34m[\u001b[0m\u001b[0mstep\u001b[0m\u001b[0;34m[\u001b[0m\u001b[0;34m\"messages\"\u001b[0m\u001b[0;34m]\u001b[0m\u001b[0;34m[\u001b[0m\u001b[0;34m-\u001b[0m\u001b[0;36m1\u001b[0m\u001b[0;34m]\u001b[0m\u001b[0;34m.\u001b[0m\u001b[0mcontent\u001b[0m\u001b[0;34m]\u001b[0m\u001b[0;34m}\u001b[0m\u001b[0;34m\u001b[0m\u001b[0;34m\u001b[0m\u001b[0m\n\u001b[1;32m     17\u001b[0m \u001b[0;34m\u001b[0m\u001b[0m\n",
            "\u001b[0;32m/usr/local/lib/python3.12/dist-packages/langgraph/pregel/main.py\u001b[0m in \u001b[0;36mainvoke\u001b[0;34m(self, input, config, context, stream_mode, print_mode, output_keys, interrupt_before, interrupt_after, durability, **kwargs)\u001b[0m\n\u001b[1;32m   3110\u001b[0m         \u001b[0minterrupts\u001b[0m\u001b[0;34m:\u001b[0m \u001b[0mlist\u001b[0m\u001b[0;34m[\u001b[0m\u001b[0mInterrupt\u001b[0m\u001b[0;34m]\u001b[0m \u001b[0;34m=\u001b[0m \u001b[0;34m[\u001b[0m\u001b[0;34m]\u001b[0m\u001b[0;34m\u001b[0m\u001b[0;34m\u001b[0m\u001b[0m\n\u001b[1;32m   3111\u001b[0m \u001b[0;34m\u001b[0m\u001b[0m\n\u001b[0;32m-> 3112\u001b[0;31m         async for chunk in self.astream(\n\u001b[0m\u001b[1;32m   3113\u001b[0m             \u001b[0minput\u001b[0m\u001b[0;34m,\u001b[0m\u001b[0;34m\u001b[0m\u001b[0;34m\u001b[0m\u001b[0m\n\u001b[1;32m   3114\u001b[0m             \u001b[0mconfig\u001b[0m\u001b[0;34m,\u001b[0m\u001b[0;34m\u001b[0m\u001b[0;34m\u001b[0m\u001b[0m\n",
            "\u001b[0;32m/usr/local/lib/python3.12/dist-packages/langgraph/pregel/main.py\u001b[0m in \u001b[0;36mastream\u001b[0;34m(self, input, config, context, stream_mode, print_mode, output_keys, interrupt_before, interrupt_after, durability, subgraphs, debug, **kwargs)\u001b[0m\n\u001b[1;32m   2975\u001b[0m                     \u001b[0merror_code\u001b[0m\u001b[0;34m=\u001b[0m\u001b[0mErrorCode\u001b[0m\u001b[0;34m.\u001b[0m\u001b[0mGRAPH_RECURSION_LIMIT\u001b[0m\u001b[0;34m,\u001b[0m\u001b[0;34m\u001b[0m\u001b[0;34m\u001b[0m\u001b[0m\n\u001b[1;32m   2976\u001b[0m                 )\n\u001b[0;32m-> 2977\u001b[0;31m                 \u001b[0;32mraise\u001b[0m \u001b[0mGraphRecursionError\u001b[0m\u001b[0;34m(\u001b[0m\u001b[0mmsg\u001b[0m\u001b[0;34m)\u001b[0m\u001b[0;34m\u001b[0m\u001b[0;34m\u001b[0m\u001b[0m\n\u001b[0m\u001b[1;32m   2978\u001b[0m             \u001b[0;31m# set final channel values as run output\u001b[0m\u001b[0;34m\u001b[0m\u001b[0;34m\u001b[0m\u001b[0m\n\u001b[1;32m   2979\u001b[0m             \u001b[0;32mawait\u001b[0m \u001b[0mrun_manager\u001b[0m\u001b[0;34m.\u001b[0m\u001b[0mon_chain_end\u001b[0m\u001b[0;34m(\u001b[0m\u001b[0mloop\u001b[0m\u001b[0;34m.\u001b[0m\u001b[0moutput\u001b[0m\u001b[0;34m)\u001b[0m\u001b[0;34m\u001b[0m\u001b[0;34m\u001b[0m\u001b[0m\n",
            "\u001b[0;31mGraphRecursionError\u001b[0m: Recursion limit of 25 reached without hitting a stop condition. You can increase the limit by setting the `recursion_limit` config key.\nFor troubleshooting, visit: https://python.langchain.com/docs/troubleshooting/errors/GRAPH_RECURSION_LIMIT"
          ]
        }
      ]
    },
    {
      "cell_type": "code",
      "source": [
        "print(result[\"final_response\"].content)"
      ],
      "metadata": {
        "id": "hQzhzs9jTAmQ"
      },
      "execution_count": null,
      "outputs": []
    },
    {
      "cell_type": "code",
      "source": [
        "async for output in graph.astream({\"task\": task}, stream_mode=\"updates\"):\n",
        "    for key, value in output.items():\n",
        "        print(f\"Output from node '{key}':\")\n",
        "        print(\"---\")\n",
        "        print(value)\n",
        "    print(\"\\n---\\n\")"
      ],
      "metadata": {
        "id": "hquWZOUKSYL1"
      },
      "execution_count": null,
      "outputs": []
    },
    {
      "cell_type": "markdown",
      "source": [
        "# Installation"
      ],
      "metadata": {
        "id": "B32qL0-kgLvZ"
      }
    },
    {
      "cell_type": "code",
      "source": [
        "!pip install langchain_google_vertexai langsmith langchain-google-genai duckduckgo-search langchain-community langgraph arxiv wikipedia ddgs"
      ],
      "metadata": {
        "colab": {
          "base_uri": "https://localhost:8080/",
          "height": 1000
        },
        "id": "MeiGwF8wgNFQ",
        "outputId": "8930aa23-5b53-459b-f9cf-456a219d1c70"
      },
      "execution_count": null,
      "outputs": [
        {
          "output_type": "stream",
          "name": "stdout",
          "text": [
            "Collecting langchain_google_vertexai\n",
            "  Downloading langchain_google_vertexai-2.1.0-py3-none-any.whl.metadata (4.9 kB)\n",
            "Requirement already satisfied: langsmith in /usr/local/lib/python3.12/dist-packages (0.4.27)\n",
            "Collecting langchain-google-genai\n",
            "  Downloading langchain_google_genai-2.1.10-py3-none-any.whl.metadata (7.2 kB)\n",
            "Collecting duckduckgo-search\n",
            "  Downloading duckduckgo_search-8.1.1-py3-none-any.whl.metadata (16 kB)\n",
            "Collecting langchain-community\n",
            "  Downloading langchain_community-0.3.29-py3-none-any.whl.metadata (2.9 kB)\n",
            "Collecting langgraph\n",
            "  Downloading langgraph-0.6.7-py3-none-any.whl.metadata (6.8 kB)\n",
            "Collecting arxiv\n",
            "  Downloading arxiv-2.2.0-py3-none-any.whl.metadata (6.3 kB)\n",
            "Collecting wikipedia\n",
            "  Downloading wikipedia-1.4.0.tar.gz (27 kB)\n",
            "  Preparing metadata (setup.py) ... \u001b[?25l\u001b[?25hdone\n",
            "Collecting ddgs\n",
            "  Downloading ddgs-9.5.5-py3-none-any.whl.metadata (18 kB)\n",
            "Collecting langchain-core>=0.3.76 (from langchain_google_vertexai)\n",
            "  Downloading langchain_core-0.3.76-py3-none-any.whl.metadata (3.7 kB)\n",
            "Requirement already satisfied: google-cloud-aiplatform>=1.97.0 in /usr/local/lib/python3.12/dist-packages (from langchain_google_vertexai) (1.111.0)\n",
            "Requirement already satisfied: google-cloud-storage<3,>=2.18 in /usr/local/lib/python3.12/dist-packages (from langchain_google_vertexai) (2.19.0)\n",
            "Requirement already satisfied: httpx<1,>=0.28 in /usr/local/lib/python3.12/dist-packages (from langchain_google_vertexai) (0.28.1)\n",
            "Requirement already satisfied: httpx-sse<1,>=0.4 in /usr/local/lib/python3.12/dist-packages (from langchain_google_vertexai) (0.4.1)\n",
            "Requirement already satisfied: pydantic<3,>=2.9 in /usr/local/lib/python3.12/dist-packages (from langchain_google_vertexai) (2.11.7)\n",
            "Collecting validators<1,>=0.22 (from langchain_google_vertexai)\n",
            "  Downloading validators-0.35.0-py3-none-any.whl.metadata (3.9 kB)\n",
            "Requirement already satisfied: bottleneck<2,>=1.4 in /usr/local/lib/python3.12/dist-packages (from langchain_google_vertexai) (1.4.2)\n",
            "Requirement already satisfied: numexpr<3,>=2.8.6 in /usr/local/lib/python3.12/dist-packages (from langchain_google_vertexai) (2.11.0)\n",
            "Collecting pyarrow<22,>=19.0.1 (from langchain_google_vertexai)\n",
            "  Downloading pyarrow-21.0.0-cp312-cp312-manylinux_2_28_x86_64.whl.metadata (3.3 kB)\n",
            "Requirement already satisfied: orjson>=3.9.14 in /usr/local/lib/python3.12/dist-packages (from langsmith) (3.11.3)\n",
            "Requirement already satisfied: packaging>=23.2 in /usr/local/lib/python3.12/dist-packages (from langsmith) (25.0)\n",
            "Requirement already satisfied: requests-toolbelt>=1.0.0 in /usr/local/lib/python3.12/dist-packages (from langsmith) (1.0.0)\n",
            "Requirement already satisfied: requests>=2.0.0 in /usr/local/lib/python3.12/dist-packages (from langsmith) (2.32.4)\n",
            "Requirement already satisfied: zstandard>=0.23.0 in /usr/local/lib/python3.12/dist-packages (from langsmith) (0.24.0)\n",
            "Collecting filetype<2.0.0,>=1.2.0 (from langchain-google-genai)\n",
            "  Downloading filetype-1.2.0-py2.py3-none-any.whl.metadata (6.5 kB)\n",
            "Collecting google-ai-generativelanguage<0.7.0,>=0.6.18 (from langchain-google-genai)\n",
            "  Downloading google_ai_generativelanguage-0.6.18-py3-none-any.whl.metadata (9.8 kB)\n",
            "Requirement already satisfied: click>=8.1.8 in /usr/local/lib/python3.12/dist-packages (from duckduckgo-search) (8.2.1)\n",
            "Collecting primp>=0.15.0 (from duckduckgo-search)\n",
            "  Downloading primp-0.15.0-cp38-abi3-manylinux_2_17_x86_64.manylinux2014_x86_64.whl.metadata (13 kB)\n",
            "Requirement already satisfied: lxml>=5.3.0 in /usr/local/lib/python3.12/dist-packages (from duckduckgo-search) (5.4.0)\n",
            "Requirement already satisfied: langchain<2.0.0,>=0.3.27 in /usr/local/lib/python3.12/dist-packages (from langchain-community) (0.3.27)\n",
            "Requirement already satisfied: SQLAlchemy<3,>=1.4 in /usr/local/lib/python3.12/dist-packages (from langchain-community) (2.0.43)\n",
            "Collecting requests>=2.0.0 (from langsmith)\n",
            "  Downloading requests-2.32.5-py3-none-any.whl.metadata (4.9 kB)\n",
            "Requirement already satisfied: PyYAML>=5.3 in /usr/local/lib/python3.12/dist-packages (from langchain-community) (6.0.2)\n",
            "Requirement already satisfied: aiohttp<4.0.0,>=3.8.3 in /usr/local/lib/python3.12/dist-packages (from langchain-community) (3.12.15)\n",
            "Requirement already satisfied: tenacity!=8.4.0,<10,>=8.1.0 in /usr/local/lib/python3.12/dist-packages (from langchain-community) (8.5.0)\n",
            "Collecting dataclasses-json<0.7,>=0.6.7 (from langchain-community)\n",
            "  Downloading dataclasses_json-0.6.7-py3-none-any.whl.metadata (25 kB)\n",
            "Requirement already satisfied: pydantic-settings<3.0.0,>=2.10.1 in /usr/local/lib/python3.12/dist-packages (from langchain-community) (2.10.1)\n",
            "Requirement already satisfied: numpy>=1.26.2 in /usr/local/lib/python3.12/dist-packages (from langchain-community) (2.0.2)\n",
            "Collecting langgraph-checkpoint<3.0.0,>=2.1.0 (from langgraph)\n",
            "  Downloading langgraph_checkpoint-2.1.1-py3-none-any.whl.metadata (4.2 kB)\n",
            "Collecting langgraph-prebuilt<0.7.0,>=0.6.0 (from langgraph)\n",
            "  Downloading langgraph_prebuilt-0.6.4-py3-none-any.whl.metadata (4.5 kB)\n",
            "Collecting langgraph-sdk<0.3.0,>=0.2.2 (from langgraph)\n",
            "  Downloading langgraph_sdk-0.2.6-py3-none-any.whl.metadata (1.5 kB)\n",
            "Requirement already satisfied: xxhash>=3.5.0 in /usr/local/lib/python3.12/dist-packages (from langgraph) (3.5.0)\n",
            "Collecting feedparser~=6.0.10 (from arxiv)\n",
            "  Downloading feedparser-6.0.12-py3-none-any.whl.metadata (2.7 kB)\n",
            "Requirement already satisfied: beautifulsoup4 in /usr/local/lib/python3.12/dist-packages (from wikipedia) (4.13.5)\n",
            "Collecting lxml>=5.3.0 (from duckduckgo-search)\n",
            "  Downloading lxml-6.0.1-cp312-cp312-manylinux_2_26_x86_64.manylinux_2_28_x86_64.whl.metadata (3.8 kB)\n",
            "Requirement already satisfied: aiohappyeyeballs>=2.5.0 in /usr/local/lib/python3.12/dist-packages (from aiohttp<4.0.0,>=3.8.3->langchain-community) (2.6.1)\n",
            "Requirement already satisfied: aiosignal>=1.4.0 in /usr/local/lib/python3.12/dist-packages (from aiohttp<4.0.0,>=3.8.3->langchain-community) (1.4.0)\n",
            "Requirement already satisfied: attrs>=17.3.0 in /usr/local/lib/python3.12/dist-packages (from aiohttp<4.0.0,>=3.8.3->langchain-community) (25.3.0)\n",
            "Requirement already satisfied: frozenlist>=1.1.1 in /usr/local/lib/python3.12/dist-packages (from aiohttp<4.0.0,>=3.8.3->langchain-community) (1.7.0)\n",
            "Requirement already satisfied: multidict<7.0,>=4.5 in /usr/local/lib/python3.12/dist-packages (from aiohttp<4.0.0,>=3.8.3->langchain-community) (6.6.4)\n",
            "Requirement already satisfied: propcache>=0.2.0 in /usr/local/lib/python3.12/dist-packages (from aiohttp<4.0.0,>=3.8.3->langchain-community) (0.3.2)\n",
            "Requirement already satisfied: yarl<2.0,>=1.17.0 in /usr/local/lib/python3.12/dist-packages (from aiohttp<4.0.0,>=3.8.3->langchain-community) (1.20.1)\n",
            "Collecting marshmallow<4.0.0,>=3.18.0 (from dataclasses-json<0.7,>=0.6.7->langchain-community)\n",
            "  Downloading marshmallow-3.26.1-py3-none-any.whl.metadata (7.3 kB)\n",
            "Collecting typing-inspect<1,>=0.4.0 (from dataclasses-json<0.7,>=0.6.7->langchain-community)\n",
            "  Downloading typing_inspect-0.9.0-py3-none-any.whl.metadata (1.5 kB)\n",
            "Collecting sgmllib3k (from feedparser~=6.0.10->arxiv)\n",
            "  Downloading sgmllib3k-1.0.0.tar.gz (5.8 kB)\n",
            "  Preparing metadata (setup.py) ... \u001b[?25l\u001b[?25hdone\n",
            "Requirement already satisfied: google-api-core!=2.0.*,!=2.1.*,!=2.10.*,!=2.2.*,!=2.3.*,!=2.4.*,!=2.5.*,!=2.6.*,!=2.7.*,!=2.8.*,!=2.9.*,<3.0.0,>=1.34.1 in /usr/local/lib/python3.12/dist-packages (from google-api-core[grpc]!=2.0.*,!=2.1.*,!=2.10.*,!=2.2.*,!=2.3.*,!=2.4.*,!=2.5.*,!=2.6.*,!=2.7.*,!=2.8.*,!=2.9.*,<3.0.0,>=1.34.1->google-ai-generativelanguage<0.7.0,>=0.6.18->langchain-google-genai) (2.25.1)\n",
            "Requirement already satisfied: google-auth!=2.24.0,!=2.25.0,<3.0.0,>=2.14.1 in /usr/local/lib/python3.12/dist-packages (from google-ai-generativelanguage<0.7.0,>=0.6.18->langchain-google-genai) (2.38.0)\n",
            "Requirement already satisfied: proto-plus<2.0.0,>=1.22.3 in /usr/local/lib/python3.12/dist-packages (from google-ai-generativelanguage<0.7.0,>=0.6.18->langchain-google-genai) (1.26.1)\n",
            "Requirement already satisfied: protobuf!=4.21.0,!=4.21.1,!=4.21.2,!=4.21.3,!=4.21.4,!=4.21.5,<7.0.0,>=3.20.2 in /usr/local/lib/python3.12/dist-packages (from google-ai-generativelanguage<0.7.0,>=0.6.18->langchain-google-genai) (5.29.5)\n",
            "Requirement already satisfied: google-cloud-bigquery!=3.20.0,<4.0.0,>=1.15.0 in /usr/local/lib/python3.12/dist-packages (from google-cloud-aiplatform>=1.97.0->langchain_google_vertexai) (3.37.0)\n",
            "Requirement already satisfied: google-cloud-resource-manager<3.0.0,>=1.3.3 in /usr/local/lib/python3.12/dist-packages (from google-cloud-aiplatform>=1.97.0->langchain_google_vertexai) (1.14.2)\n",
            "Requirement already satisfied: shapely<3.0.0 in /usr/local/lib/python3.12/dist-packages (from google-cloud-aiplatform>=1.97.0->langchain_google_vertexai) (2.1.1)\n",
            "Requirement already satisfied: google-genai<2.0.0,>=1.0.0 in /usr/local/lib/python3.12/dist-packages (from google-cloud-aiplatform>=1.97.0->langchain_google_vertexai) (1.34.0)\n",
            "Requirement already satisfied: typing_extensions in /usr/local/lib/python3.12/dist-packages (from google-cloud-aiplatform>=1.97.0->langchain_google_vertexai) (4.15.0)\n",
            "Requirement already satisfied: docstring_parser<1 in /usr/local/lib/python3.12/dist-packages (from google-cloud-aiplatform>=1.97.0->langchain_google_vertexai) (0.17.0)\n",
            "Requirement already satisfied: google-cloud-core<3.0dev,>=2.3.0 in /usr/local/lib/python3.12/dist-packages (from google-cloud-storage<3,>=2.18->langchain_google_vertexai) (2.4.3)\n",
            "Requirement already satisfied: google-resumable-media>=2.7.2 in /usr/local/lib/python3.12/dist-packages (from google-cloud-storage<3,>=2.18->langchain_google_vertexai) (2.7.2)\n",
            "Requirement already satisfied: google-crc32c<2.0dev,>=1.0 in /usr/local/lib/python3.12/dist-packages (from google-cloud-storage<3,>=2.18->langchain_google_vertexai) (1.7.1)\n",
            "Requirement already satisfied: anyio in /usr/local/lib/python3.12/dist-packages (from httpx<1,>=0.28->langchain_google_vertexai) (4.10.0)\n",
            "Requirement already satisfied: certifi in /usr/local/lib/python3.12/dist-packages (from httpx<1,>=0.28->langchain_google_vertexai) (2025.8.3)\n",
            "Requirement already satisfied: httpcore==1.* in /usr/local/lib/python3.12/dist-packages (from httpx<1,>=0.28->langchain_google_vertexai) (1.0.9)\n",
            "Requirement already satisfied: idna in /usr/local/lib/python3.12/dist-packages (from httpx<1,>=0.28->langchain_google_vertexai) (3.10)\n",
            "Requirement already satisfied: h11>=0.16 in /usr/local/lib/python3.12/dist-packages (from httpcore==1.*->httpx<1,>=0.28->langchain_google_vertexai) (0.16.0)\n",
            "Requirement already satisfied: langchain-text-splitters<1.0.0,>=0.3.9 in /usr/local/lib/python3.12/dist-packages (from langchain<2.0.0,>=0.3.27->langchain-community) (0.3.11)\n",
            "Requirement already satisfied: jsonpatch<2.0,>=1.33 in /usr/local/lib/python3.12/dist-packages (from langchain-core>=0.3.76->langchain_google_vertexai) (1.33)\n",
            "Collecting ormsgpack>=1.10.0 (from langgraph-checkpoint<3.0.0,>=2.1.0->langgraph)\n",
            "  Downloading ormsgpack-1.10.0-cp312-cp312-manylinux_2_17_x86_64.manylinux2014_x86_64.whl.metadata (43 kB)\n",
            "\u001b[2K     \u001b[90m━━━━━━━━━━━━━━━━━━━━━━━━━━━━━━━━━━━━━━━━\u001b[0m \u001b[32m43.7/43.7 kB\u001b[0m \u001b[31m2.8 MB/s\u001b[0m eta \u001b[36m0:00:00\u001b[0m\n",
            "\u001b[?25hRequirement already satisfied: annotated-types>=0.6.0 in /usr/local/lib/python3.12/dist-packages (from pydantic<3,>=2.9->langchain_google_vertexai) (0.7.0)\n",
            "Requirement already satisfied: pydantic-core==2.33.2 in /usr/local/lib/python3.12/dist-packages (from pydantic<3,>=2.9->langchain_google_vertexai) (2.33.2)\n",
            "Requirement already satisfied: typing-inspection>=0.4.0 in /usr/local/lib/python3.12/dist-packages (from pydantic<3,>=2.9->langchain_google_vertexai) (0.4.1)\n",
            "Requirement already satisfied: python-dotenv>=0.21.0 in /usr/local/lib/python3.12/dist-packages (from pydantic-settings<3.0.0,>=2.10.1->langchain-community) (1.1.1)\n",
            "Requirement already satisfied: charset_normalizer<4,>=2 in /usr/local/lib/python3.12/dist-packages (from requests>=2.0.0->langsmith) (3.4.3)\n",
            "Requirement already satisfied: urllib3<3,>=1.21.1 in /usr/local/lib/python3.12/dist-packages (from requests>=2.0.0->langsmith) (2.5.0)\n",
            "Requirement already satisfied: greenlet>=1 in /usr/local/lib/python3.12/dist-packages (from SQLAlchemy<3,>=1.4->langchain-community) (3.2.4)\n",
            "Requirement already satisfied: soupsieve>1.2 in /usr/local/lib/python3.12/dist-packages (from beautifulsoup4->wikipedia) (2.8)\n",
            "Requirement already satisfied: googleapis-common-protos<2.0.0,>=1.56.2 in /usr/local/lib/python3.12/dist-packages (from google-api-core!=2.0.*,!=2.1.*,!=2.10.*,!=2.2.*,!=2.3.*,!=2.4.*,!=2.5.*,!=2.6.*,!=2.7.*,!=2.8.*,!=2.9.*,<3.0.0,>=1.34.1->google-api-core[grpc]!=2.0.*,!=2.1.*,!=2.10.*,!=2.2.*,!=2.3.*,!=2.4.*,!=2.5.*,!=2.6.*,!=2.7.*,!=2.8.*,!=2.9.*,<3.0.0,>=1.34.1->google-ai-generativelanguage<0.7.0,>=0.6.18->langchain-google-genai) (1.70.0)\n",
            "Requirement already satisfied: grpcio<2.0.0,>=1.33.2 in /usr/local/lib/python3.12/dist-packages (from google-api-core[grpc]!=2.0.*,!=2.1.*,!=2.10.*,!=2.2.*,!=2.3.*,!=2.4.*,!=2.5.*,!=2.6.*,!=2.7.*,!=2.8.*,!=2.9.*,<3.0.0,>=1.34.1->google-ai-generativelanguage<0.7.0,>=0.6.18->langchain-google-genai) (1.74.0)\n",
            "Requirement already satisfied: grpcio-status<2.0.0,>=1.33.2 in /usr/local/lib/python3.12/dist-packages (from google-api-core[grpc]!=2.0.*,!=2.1.*,!=2.10.*,!=2.2.*,!=2.3.*,!=2.4.*,!=2.5.*,!=2.6.*,!=2.7.*,!=2.8.*,!=2.9.*,<3.0.0,>=1.34.1->google-ai-generativelanguage<0.7.0,>=0.6.18->langchain-google-genai) (1.71.2)\n",
            "Requirement already satisfied: cachetools<6.0,>=2.0.0 in /usr/local/lib/python3.12/dist-packages (from google-auth!=2.24.0,!=2.25.0,<3.0.0,>=2.14.1->google-ai-generativelanguage<0.7.0,>=0.6.18->langchain-google-genai) (5.5.2)\n",
            "Requirement already satisfied: pyasn1-modules>=0.2.1 in /usr/local/lib/python3.12/dist-packages (from google-auth!=2.24.0,!=2.25.0,<3.0.0,>=2.14.1->google-ai-generativelanguage<0.7.0,>=0.6.18->langchain-google-genai) (0.4.2)\n",
            "Requirement already satisfied: rsa<5,>=3.1.4 in /usr/local/lib/python3.12/dist-packages (from google-auth!=2.24.0,!=2.25.0,<3.0.0,>=2.14.1->google-ai-generativelanguage<0.7.0,>=0.6.18->langchain-google-genai) (4.9.1)\n",
            "Requirement already satisfied: python-dateutil<3.0.0,>=2.8.2 in /usr/local/lib/python3.12/dist-packages (from google-cloud-bigquery!=3.20.0,<4.0.0,>=1.15.0->google-cloud-aiplatform>=1.97.0->langchain_google_vertexai) (2.9.0.post0)\n",
            "Requirement already satisfied: grpc-google-iam-v1<1.0.0,>=0.14.0 in /usr/local/lib/python3.12/dist-packages (from google-cloud-resource-manager<3.0.0,>=1.3.3->google-cloud-aiplatform>=1.97.0->langchain_google_vertexai) (0.14.2)\n",
            "Requirement already satisfied: websockets<15.1.0,>=13.0.0 in /usr/local/lib/python3.12/dist-packages (from google-genai<2.0.0,>=1.0.0->google-cloud-aiplatform>=1.97.0->langchain_google_vertexai) (15.0.1)\n",
            "Requirement already satisfied: sniffio>=1.1 in /usr/local/lib/python3.12/dist-packages (from anyio->httpx<1,>=0.28->langchain_google_vertexai) (1.3.1)\n",
            "Requirement already satisfied: jsonpointer>=1.9 in /usr/local/lib/python3.12/dist-packages (from jsonpatch<2.0,>=1.33->langchain-core>=0.3.76->langchain_google_vertexai) (3.0.0)\n",
            "Collecting mypy-extensions>=0.3.0 (from typing-inspect<1,>=0.4.0->dataclasses-json<0.7,>=0.6.7->langchain-community)\n",
            "  Downloading mypy_extensions-1.1.0-py3-none-any.whl.metadata (1.1 kB)\n",
            "Requirement already satisfied: pyasn1<0.7.0,>=0.6.1 in /usr/local/lib/python3.12/dist-packages (from pyasn1-modules>=0.2.1->google-auth!=2.24.0,!=2.25.0,<3.0.0,>=2.14.1->google-ai-generativelanguage<0.7.0,>=0.6.18->langchain-google-genai) (0.6.1)\n",
            "Requirement already satisfied: six>=1.5 in /usr/local/lib/python3.12/dist-packages (from python-dateutil<3.0.0,>=2.8.2->google-cloud-bigquery!=3.20.0,<4.0.0,>=1.15.0->google-cloud-aiplatform>=1.97.0->langchain_google_vertexai) (1.17.0)\n",
            "Downloading langchain_google_vertexai-2.1.0-py3-none-any.whl (104 kB)\n",
            "\u001b[2K   \u001b[90m━━━━━━━━━━━━━━━━━━━━━━━━━━━━━━━━━━━━━━━━\u001b[0m \u001b[32m104.2/104.2 kB\u001b[0m \u001b[31m4.5 MB/s\u001b[0m eta \u001b[36m0:00:00\u001b[0m\n",
            "\u001b[?25hDownloading langchain_google_genai-2.1.10-py3-none-any.whl (49 kB)\n",
            "\u001b[2K   \u001b[90m━━━━━━━━━━━━━━━━━━━━━━━━━━━━━━━━━━━━━━━━\u001b[0m \u001b[32m49.4/49.4 kB\u001b[0m \u001b[31m3.4 MB/s\u001b[0m eta \u001b[36m0:00:00\u001b[0m\n",
            "\u001b[?25hDownloading duckduckgo_search-8.1.1-py3-none-any.whl (18 kB)\n",
            "Downloading langchain_community-0.3.29-py3-none-any.whl (2.5 MB)\n",
            "\u001b[2K   \u001b[90m━━━━━━━━━━━━━━━━━━━━━━━━━━━━━━━━━━━━━━━━\u001b[0m \u001b[32m2.5/2.5 MB\u001b[0m \u001b[31m39.8 MB/s\u001b[0m eta \u001b[36m0:00:00\u001b[0m\n",
            "\u001b[?25hDownloading langgraph-0.6.7-py3-none-any.whl (153 kB)\n",
            "\u001b[2K   \u001b[90m━━━━━━━━━━━━━━━━━━━━━━━━━━━━━━━━━━━━━━━━\u001b[0m \u001b[32m153.3/153.3 kB\u001b[0m \u001b[31m11.8 MB/s\u001b[0m eta \u001b[36m0:00:00\u001b[0m\n",
            "\u001b[?25hDownloading arxiv-2.2.0-py3-none-any.whl (11 kB)\n",
            "Downloading ddgs-9.5.5-py3-none-any.whl (37 kB)\n",
            "Downloading dataclasses_json-0.6.7-py3-none-any.whl (28 kB)\n",
            "Downloading feedparser-6.0.12-py3-none-any.whl (81 kB)\n",
            "\u001b[2K   \u001b[90m━━━━━━━━━━━━━━━━━━━━━━━━━━━━━━━━━━━━━━━━\u001b[0m \u001b[32m81.5/81.5 kB\u001b[0m \u001b[31m6.3 MB/s\u001b[0m eta \u001b[36m0:00:00\u001b[0m\n",
            "\u001b[?25hDownloading filetype-1.2.0-py2.py3-none-any.whl (19 kB)\n",
            "Downloading google_ai_generativelanguage-0.6.18-py3-none-any.whl (1.4 MB)\n",
            "\u001b[2K   \u001b[90m━━━━━━━━━━━━━━━━━━━━━━━━━━━━━━━━━━━━━━━━\u001b[0m \u001b[32m1.4/1.4 MB\u001b[0m \u001b[31m56.2 MB/s\u001b[0m eta \u001b[36m0:00:00\u001b[0m\n",
            "\u001b[?25hDownloading langchain_core-0.3.76-py3-none-any.whl (447 kB)\n",
            "\u001b[2K   \u001b[90m━━━━━━━━━━━━━━━━━━━━━━━━━━━━━━━━━━━━━━━━\u001b[0m \u001b[32m447.5/447.5 kB\u001b[0m \u001b[31m27.2 MB/s\u001b[0m eta \u001b[36m0:00:00\u001b[0m\n",
            "\u001b[?25hDownloading langgraph_checkpoint-2.1.1-py3-none-any.whl (43 kB)\n",
            "\u001b[2K   \u001b[90m━━━━━━━━━━━━━━━━━━━━━━━━━━━━━━━━━━━━━━━━\u001b[0m \u001b[32m43.9/43.9 kB\u001b[0m \u001b[31m2.9 MB/s\u001b[0m eta \u001b[36m0:00:00\u001b[0m\n",
            "\u001b[?25hDownloading langgraph_prebuilt-0.6.4-py3-none-any.whl (28 kB)\n",
            "Downloading langgraph_sdk-0.2.6-py3-none-any.whl (54 kB)\n",
            "\u001b[2K   \u001b[90m━━━━━━━━━━━━━━━━━━━━━━━━━━━━━━━━━━━━━━━━\u001b[0m \u001b[32m54.6/54.6 kB\u001b[0m \u001b[31m3.6 MB/s\u001b[0m eta \u001b[36m0:00:00\u001b[0m\n",
            "\u001b[?25hDownloading lxml-6.0.1-cp312-cp312-manylinux_2_26_x86_64.manylinux_2_28_x86_64.whl (5.3 MB)\n",
            "\u001b[2K   \u001b[90m━━━━━━━━━━━━━━━━━━━━━━━━━━━━━━━━━━━━━━━━\u001b[0m \u001b[32m5.3/5.3 MB\u001b[0m \u001b[31m97.3 MB/s\u001b[0m eta \u001b[36m0:00:00\u001b[0m\n",
            "\u001b[?25hDownloading primp-0.15.0-cp38-abi3-manylinux_2_17_x86_64.manylinux2014_x86_64.whl (3.3 MB)\n",
            "\u001b[2K   \u001b[90m━━━━━━━━━━━━━━━━━━━━━━━━━━━━━━━━━━━━━━━━\u001b[0m \u001b[32m3.3/3.3 MB\u001b[0m \u001b[31m89.0 MB/s\u001b[0m eta \u001b[36m0:00:00\u001b[0m\n",
            "\u001b[?25hDownloading pyarrow-21.0.0-cp312-cp312-manylinux_2_28_x86_64.whl (42.8 MB)\n",
            "\u001b[2K   \u001b[90m━━━━━━━━━━━━━━━━━━━━━━━━━━━━━━━━━━━━━━━━\u001b[0m \u001b[32m42.8/42.8 MB\u001b[0m \u001b[31m18.0 MB/s\u001b[0m eta \u001b[36m0:00:00\u001b[0m\n",
            "\u001b[?25hDownloading requests-2.32.5-py3-none-any.whl (64 kB)\n",
            "\u001b[2K   \u001b[90m━━━━━━━━━━━━━━━━━━━━━━━━━━━━━━━━━━━━━━━━\u001b[0m \u001b[32m64.7/64.7 kB\u001b[0m \u001b[31m4.7 MB/s\u001b[0m eta \u001b[36m0:00:00\u001b[0m\n",
            "\u001b[?25hDownloading validators-0.35.0-py3-none-any.whl (44 kB)\n",
            "\u001b[2K   \u001b[90m━━━━━━━━━━━━━━━━━━━━━━━━━━━━━━━━━━━━━━━━\u001b[0m \u001b[32m44.7/44.7 kB\u001b[0m \u001b[31m3.1 MB/s\u001b[0m eta \u001b[36m0:00:00\u001b[0m\n",
            "\u001b[?25hDownloading marshmallow-3.26.1-py3-none-any.whl (50 kB)\n",
            "\u001b[2K   \u001b[90m━━━━━━━━━━━━━━━━━━━━━━━━━━━━━━━━━━━━━━━━\u001b[0m \u001b[32m50.9/50.9 kB\u001b[0m \u001b[31m3.8 MB/s\u001b[0m eta \u001b[36m0:00:00\u001b[0m\n",
            "\u001b[?25hDownloading ormsgpack-1.10.0-cp312-cp312-manylinux_2_17_x86_64.manylinux2014_x86_64.whl (216 kB)\n",
            "\u001b[2K   \u001b[90m━━━━━━━━━━━━━━━━━━━━━━━━━━━━━━━━━━━━━━━━\u001b[0m \u001b[32m216.7/216.7 kB\u001b[0m \u001b[31m16.8 MB/s\u001b[0m eta \u001b[36m0:00:00\u001b[0m\n",
            "\u001b[?25hDownloading typing_inspect-0.9.0-py3-none-any.whl (8.8 kB)\n",
            "Downloading mypy_extensions-1.1.0-py3-none-any.whl (5.0 kB)\n",
            "Building wheels for collected packages: wikipedia, sgmllib3k\n",
            "  Building wheel for wikipedia (setup.py) ... \u001b[?25l\u001b[?25hdone\n",
            "  Created wheel for wikipedia: filename=wikipedia-1.4.0-py3-none-any.whl size=11678 sha256=af6ab5c8403ac6fd0cfa9fee39c1fe554aacc0c6fc8aac385268a32b879e139a\n",
            "  Stored in directory: /root/.cache/pip/wheels/63/47/7c/a9688349aa74d228ce0a9023229c6c0ac52ca2a40fe87679b8\n",
            "  Building wheel for sgmllib3k (setup.py) ... \u001b[?25l\u001b[?25hdone\n",
            "  Created wheel for sgmllib3k: filename=sgmllib3k-1.0.0-py3-none-any.whl size=6046 sha256=0af505ce960d40a4472cc6ad0efd2421dc77ceed5e569b21ed4972e56b163916\n",
            "  Stored in directory: /root/.cache/pip/wheels/03/f5/1a/23761066dac1d0e8e683e5fdb27e12de53209d05a4a37e6246\n",
            "Successfully built wikipedia sgmllib3k\n",
            "Installing collected packages: sgmllib3k, filetype, validators, requests, pyarrow, primp, ormsgpack, mypy-extensions, marshmallow, lxml, feedparser, wikipedia, typing-inspect, duckduckgo-search, ddgs, arxiv, langgraph-sdk, dataclasses-json, langchain-core, langgraph-checkpoint, google-ai-generativelanguage, langgraph-prebuilt, langchain-google-genai, langgraph, langchain_google_vertexai, langchain-community\n",
            "  Attempting uninstall: requests\n",
            "    Found existing installation: requests 2.32.4\n",
            "    Uninstalling requests-2.32.4:\n",
            "      Successfully uninstalled requests-2.32.4\n",
            "  Attempting uninstall: pyarrow\n",
            "    Found existing installation: pyarrow 18.1.0\n",
            "    Uninstalling pyarrow-18.1.0:\n",
            "      Successfully uninstalled pyarrow-18.1.0\n",
            "  Attempting uninstall: lxml\n",
            "    Found existing installation: lxml 5.4.0\n",
            "    Uninstalling lxml-5.4.0:\n",
            "      Successfully uninstalled lxml-5.4.0\n",
            "  Attempting uninstall: langchain-core\n",
            "    Found existing installation: langchain-core 0.3.75\n",
            "    Uninstalling langchain-core-0.3.75:\n",
            "      Successfully uninstalled langchain-core-0.3.75\n",
            "  Attempting uninstall: google-ai-generativelanguage\n",
            "    Found existing installation: google-ai-generativelanguage 0.6.15\n",
            "    Uninstalling google-ai-generativelanguage-0.6.15:\n",
            "      Successfully uninstalled google-ai-generativelanguage-0.6.15\n",
            "\u001b[31mERROR: pip's dependency resolver does not currently take into account all the packages that are installed. This behaviour is the source of the following dependency conflicts.\n",
            "google-colab 1.0.0 requires requests==2.32.4, but you have requests 2.32.5 which is incompatible.\n",
            "google-generativeai 0.8.5 requires google-ai-generativelanguage==0.6.15, but you have google-ai-generativelanguage 0.6.18 which is incompatible.\n",
            "cudf-cu12 25.6.0 requires pyarrow<20.0.0a0,>=14.0.0; platform_machine == \"x86_64\", but you have pyarrow 21.0.0 which is incompatible.\n",
            "pylibcudf-cu12 25.6.0 requires pyarrow<20.0.0a0,>=14.0.0; platform_machine == \"x86_64\", but you have pyarrow 21.0.0 which is incompatible.\u001b[0m\u001b[31m\n",
            "\u001b[0mSuccessfully installed arxiv-2.2.0 dataclasses-json-0.6.7 ddgs-9.5.5 duckduckgo-search-8.1.1 feedparser-6.0.12 filetype-1.2.0 google-ai-generativelanguage-0.6.18 langchain-community-0.3.29 langchain-core-0.3.76 langchain-google-genai-2.1.10 langchain_google_vertexai-2.1.0 langgraph-0.6.7 langgraph-checkpoint-2.1.1 langgraph-prebuilt-0.6.4 langgraph-sdk-0.2.6 lxml-6.0.1 marshmallow-3.26.1 mypy-extensions-1.1.0 ormsgpack-1.10.0 primp-0.15.0 pyarrow-21.0.0 requests-2.32.5 sgmllib3k-1.0.0 typing-inspect-0.9.0 validators-0.35.0 wikipedia-1.4.0\n"
          ]
        },
        {
          "output_type": "display_data",
          "data": {
            "application/vnd.colab-display-data+json": {
              "pip_warning": {
                "packages": [
                  "google"
                ]
              },
              "id": "6d267bea9a3840d99c9a118be631cce3"
            }
          },
          "metadata": {}
        }
      ]
    }
  ]
}